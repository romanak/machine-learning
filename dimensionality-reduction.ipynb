{
 "cells": [
  {
   "cell_type": "markdown",
   "id": "b90db4ff-5ee6-4a88-b8a9-f106deda5bde",
   "metadata": {},
   "source": [
    "# Dimensionality Reduction"
   ]
  },
  {
   "cell_type": "markdown",
   "id": "699dcd64-88d9-42ac-9a7f-5abee4f99b1c",
   "metadata": {},
   "source": [
    "## Principal component analysis"
   ]
  },
  {
   "cell_type": "markdown",
   "id": "69c66360-ba6e-47a1-9b66-1f7dee8beeb8",
   "metadata": {},
   "source": [
    "### Standardizing the dataset"
   ]
  },
  {
   "cell_type": "code",
   "execution_count": 1,
   "id": "267f32f6-8dc1-4a77-95fb-2f92c9bde616",
   "metadata": {
    "execution": {
     "iopub.execute_input": "2021-10-24T09:13:27.960234Z",
     "iopub.status.busy": "2021-10-24T09:13:27.959744Z",
     "iopub.status.idle": "2021-10-24T09:13:28.798479Z",
     "shell.execute_reply": "2021-10-24T09:13:28.797459Z",
     "shell.execute_reply.started": "2021-10-24T09:13:27.960128Z"
    },
    "tags": []
   },
   "outputs": [
    {
     "data": {
      "text/html": [
       "<div>\n",
       "<style scoped>\n",
       "    .dataframe tbody tr th:only-of-type {\n",
       "        vertical-align: middle;\n",
       "    }\n",
       "\n",
       "    .dataframe tbody tr th {\n",
       "        vertical-align: top;\n",
       "    }\n",
       "\n",
       "    .dataframe thead th {\n",
       "        text-align: right;\n",
       "    }\n",
       "</style>\n",
       "<table border=\"1\" class=\"dataframe\">\n",
       "  <thead>\n",
       "    <tr style=\"text-align: right;\">\n",
       "      <th></th>\n",
       "      <th>Class label</th>\n",
       "      <th>Alcohol</th>\n",
       "      <th>Malic acid</th>\n",
       "      <th>Ash</th>\n",
       "      <th>Alcalinity of ash</th>\n",
       "      <th>Magnesium</th>\n",
       "      <th>Total phenols</th>\n",
       "      <th>Flavanoids</th>\n",
       "      <th>Nonflavanoid phenols</th>\n",
       "      <th>Proanthocyanins</th>\n",
       "      <th>Color intensity</th>\n",
       "      <th>Hue</th>\n",
       "      <th>OD280/OD315 of diluted wines</th>\n",
       "      <th>Proline</th>\n",
       "    </tr>\n",
       "  </thead>\n",
       "  <tbody>\n",
       "    <tr>\n",
       "      <th>0</th>\n",
       "      <td>1</td>\n",
       "      <td>14.23</td>\n",
       "      <td>1.71</td>\n",
       "      <td>2.43</td>\n",
       "      <td>15.6</td>\n",
       "      <td>127</td>\n",
       "      <td>2.80</td>\n",
       "      <td>3.06</td>\n",
       "      <td>0.28</td>\n",
       "      <td>2.29</td>\n",
       "      <td>5.64</td>\n",
       "      <td>1.04</td>\n",
       "      <td>3.92</td>\n",
       "      <td>1065</td>\n",
       "    </tr>\n",
       "    <tr>\n",
       "      <th>1</th>\n",
       "      <td>1</td>\n",
       "      <td>13.20</td>\n",
       "      <td>1.78</td>\n",
       "      <td>2.14</td>\n",
       "      <td>11.2</td>\n",
       "      <td>100</td>\n",
       "      <td>2.65</td>\n",
       "      <td>2.76</td>\n",
       "      <td>0.26</td>\n",
       "      <td>1.28</td>\n",
       "      <td>4.38</td>\n",
       "      <td>1.05</td>\n",
       "      <td>3.40</td>\n",
       "      <td>1050</td>\n",
       "    </tr>\n",
       "    <tr>\n",
       "      <th>2</th>\n",
       "      <td>1</td>\n",
       "      <td>13.16</td>\n",
       "      <td>2.36</td>\n",
       "      <td>2.67</td>\n",
       "      <td>18.6</td>\n",
       "      <td>101</td>\n",
       "      <td>2.80</td>\n",
       "      <td>3.24</td>\n",
       "      <td>0.30</td>\n",
       "      <td>2.81</td>\n",
       "      <td>5.68</td>\n",
       "      <td>1.03</td>\n",
       "      <td>3.17</td>\n",
       "      <td>1185</td>\n",
       "    </tr>\n",
       "    <tr>\n",
       "      <th>3</th>\n",
       "      <td>1</td>\n",
       "      <td>14.37</td>\n",
       "      <td>1.95</td>\n",
       "      <td>2.50</td>\n",
       "      <td>16.8</td>\n",
       "      <td>113</td>\n",
       "      <td>3.85</td>\n",
       "      <td>3.49</td>\n",
       "      <td>0.24</td>\n",
       "      <td>2.18</td>\n",
       "      <td>7.80</td>\n",
       "      <td>0.86</td>\n",
       "      <td>3.45</td>\n",
       "      <td>1480</td>\n",
       "    </tr>\n",
       "    <tr>\n",
       "      <th>4</th>\n",
       "      <td>1</td>\n",
       "      <td>13.24</td>\n",
       "      <td>2.59</td>\n",
       "      <td>2.87</td>\n",
       "      <td>21.0</td>\n",
       "      <td>118</td>\n",
       "      <td>2.80</td>\n",
       "      <td>2.69</td>\n",
       "      <td>0.39</td>\n",
       "      <td>1.82</td>\n",
       "      <td>4.32</td>\n",
       "      <td>1.04</td>\n",
       "      <td>2.93</td>\n",
       "      <td>735</td>\n",
       "    </tr>\n",
       "  </tbody>\n",
       "</table>\n",
       "</div>"
      ],
      "text/plain": [
       "   Class label  Alcohol  Malic acid   Ash  Alcalinity of ash  Magnesium  \\\n",
       "0            1    14.23        1.71  2.43               15.6        127   \n",
       "1            1    13.20        1.78  2.14               11.2        100   \n",
       "2            1    13.16        2.36  2.67               18.6        101   \n",
       "3            1    14.37        1.95  2.50               16.8        113   \n",
       "4            1    13.24        2.59  2.87               21.0        118   \n",
       "\n",
       "   Total phenols  Flavanoids  Nonflavanoid phenols  Proanthocyanins  \\\n",
       "0           2.80        3.06                  0.28             2.29   \n",
       "1           2.65        2.76                  0.26             1.28   \n",
       "2           2.80        3.24                  0.30             2.81   \n",
       "3           3.85        3.49                  0.24             2.18   \n",
       "4           2.80        2.69                  0.39             1.82   \n",
       "\n",
       "   Color intensity   Hue  OD280/OD315 of diluted wines  Proline  \n",
       "0             5.64  1.04                          3.92     1065  \n",
       "1             4.38  1.05                          3.40     1050  \n",
       "2             5.68  1.03                          3.17     1185  \n",
       "3             7.80  0.86                          3.45     1480  \n",
       "4             4.32  1.04                          2.93      735  "
      ]
     },
     "execution_count": 1,
     "metadata": {},
     "output_type": "execute_result"
    }
   ],
   "source": [
    "import numpy as np\n",
    "import pandas as pd\n",
    "\n",
    "df_wine = pd.read_csv('https://archive.ics.uci.edu/ml/'\n",
    "                      'machine-learning-databases/wine/wine.data',\n",
    "                      header=None)\n",
    "df_wine.columns = ['Class label', 'Alcohol', 'Malic acid', 'Ash',\n",
    "                   'Alcalinity of ash', 'Magnesium', 'Total phenols',\n",
    "                   'Flavanoids', 'Nonflavanoid phenols', 'Proanthocyanins',\n",
    "                   'Color intensity', 'Hue',\n",
    "                   'OD280/OD315 of diluted wines', 'Proline']\n",
    "df_wine.head()"
   ]
  },
  {
   "cell_type": "code",
   "execution_count": 2,
   "id": "8e86167f-62fa-4735-a309-97e28b966b49",
   "metadata": {
    "execution": {
     "iopub.execute_input": "2021-10-24T09:13:28.799638Z",
     "iopub.status.busy": "2021-10-24T09:13:28.799497Z",
     "iopub.status.idle": "2021-10-24T09:13:28.804318Z",
     "shell.execute_reply": "2021-10-24T09:13:28.803816Z",
     "shell.execute_reply.started": "2021-10-24T09:13:28.799621Z"
    },
    "tags": []
   },
   "outputs": [
    {
     "name": "stdout",
     "output_type": "stream",
     "text": [
      "(178, 13) (178,)\n"
     ]
    }
   ],
   "source": [
    "X, y = df_wine.iloc[:, 1:].values, df_wine.iloc[:, 0].values\n",
    "print(X.shape, y.shape)"
   ]
  },
  {
   "cell_type": "markdown",
   "id": "2ecf668d-86c0-4b1e-9ebb-78af82145ce6",
   "metadata": {},
   "source": [
    "Split the dataset"
   ]
  },
  {
   "cell_type": "code",
   "execution_count": 3,
   "id": "10c01bba-65db-456a-b6ec-8f6ba5bc122c",
   "metadata": {
    "execution": {
     "iopub.execute_input": "2021-10-24T09:13:28.805280Z",
     "iopub.status.busy": "2021-10-24T09:13:28.805063Z",
     "iopub.status.idle": "2021-10-24T09:13:28.932338Z",
     "shell.execute_reply": "2021-10-24T09:13:28.931202Z",
     "shell.execute_reply.started": "2021-10-24T09:13:28.805260Z"
    },
    "tags": []
   },
   "outputs": [
    {
     "name": "stdout",
     "output_type": "stream",
     "text": [
      "(125, 13) (125,)\n",
      "(53, 13) (53,)\n"
     ]
    }
   ],
   "source": [
    "n = len(y)\n",
    "seed = 0\n",
    "rng = np.random.default_rng(seed)\n",
    "mask = rng.permutation(list(range(n)))\n",
    "\n",
    "test_ratio = 0.3\n",
    "n_test = int(n*test_ratio)\n",
    "n_train = n-n_test\n",
    "\n",
    "X_train, y_train = X[mask][:n_train], y[mask][:n_train]\n",
    "X_test, y_test = X[mask][n_train:], y[mask][n_train:]\n",
    "\n",
    "print(X_train.shape, y_train.shape)\n",
    "print(X_test.shape, y_test.shape)"
   ]
  },
  {
   "cell_type": "markdown",
   "id": "91f05461-5d30-44b6-9a3e-f6169586bd17",
   "metadata": {},
   "source": [
    "### The problem"
   ]
  },
  {
   "cell_type": "code",
   "execution_count": 4,
   "id": "9190f89c-f306-4cc4-80c3-9ba784c548ac",
   "metadata": {
    "execution": {
     "iopub.execute_input": "2021-10-24T09:13:28.935363Z",
     "iopub.status.busy": "2021-10-24T09:13:28.934978Z",
     "iopub.status.idle": "2021-10-24T09:13:29.451823Z",
     "shell.execute_reply": "2021-10-24T09:13:29.451121Z",
     "shell.execute_reply.started": "2021-10-24T09:13:28.935328Z"
    },
    "tags": []
   },
   "outputs": [
    {
     "name": "stderr",
     "output_type": "stream",
     "text": [
      "/home/roman/.venv/scikit-learn/lib/python3.8/site-packages/sklearn/linear_model/_logistic.py:763: ConvergenceWarning: lbfgs failed to converge (status=1):\n",
      "STOP: TOTAL NO. of ITERATIONS REACHED LIMIT.\n",
      "\n",
      "Increase the number of iterations (max_iter) or scale the data as shown in:\n",
      "    https://scikit-learn.org/stable/modules/preprocessing.html\n",
      "Please also refer to the documentation for alternative solver options:\n",
      "    https://scikit-learn.org/stable/modules/linear_model.html#logistic-regression\n",
      "  n_iter_i = _check_optimize_result(\n",
      "/home/roman/.venv/scikit-learn/lib/python3.8/site-packages/sklearn/linear_model/_logistic.py:763: ConvergenceWarning: lbfgs failed to converge (status=1):\n",
      "STOP: TOTAL NO. of ITERATIONS REACHED LIMIT.\n",
      "\n",
      "Increase the number of iterations (max_iter) or scale the data as shown in:\n",
      "    https://scikit-learn.org/stable/modules/preprocessing.html\n",
      "Please also refer to the documentation for alternative solver options:\n",
      "    https://scikit-learn.org/stable/modules/linear_model.html#logistic-regression\n",
      "  n_iter_i = _check_optimize_result(\n",
      "/home/roman/.venv/scikit-learn/lib/python3.8/site-packages/sklearn/linear_model/_logistic.py:763: ConvergenceWarning: lbfgs failed to converge (status=1):\n",
      "STOP: TOTAL NO. of ITERATIONS REACHED LIMIT.\n",
      "\n",
      "Increase the number of iterations (max_iter) or scale the data as shown in:\n",
      "    https://scikit-learn.org/stable/modules/preprocessing.html\n",
      "Please also refer to the documentation for alternative solver options:\n",
      "    https://scikit-learn.org/stable/modules/linear_model.html#logistic-regression\n",
      "  n_iter_i = _check_optimize_result(\n"
     ]
    }
   ],
   "source": [
    "from sklearn.linear_model import LogisticRegression\n",
    "\n",
    "lr = LogisticRegression(multi_class='ovr', random_state=1, solver='lbfgs')\n",
    "lr = lr.fit(X_train, y_train)\n",
    "\n",
    "lr_train_score = np.sum(lr.predict(X_train) == y_train)/y_train.shape[0]\n",
    "lr_test_score = np.sum(lr.predict(X_test) == y_test)/y_test.shape[0]"
   ]
  },
  {
   "cell_type": "markdown",
   "id": "eab43b25-2fc8-4d0d-9e31-ffe4686baf7e",
   "metadata": {},
   "source": [
    "Standardize the dataset"
   ]
  },
  {
   "cell_type": "code",
   "execution_count": 5,
   "id": "f9cc4a45-4f5c-47bd-a05a-eb18143701bc",
   "metadata": {
    "execution": {
     "iopub.execute_input": "2021-10-24T09:13:29.452979Z",
     "iopub.status.busy": "2021-10-24T09:13:29.452675Z",
     "iopub.status.idle": "2021-10-24T09:13:29.459643Z",
     "shell.execute_reply": "2021-10-24T09:13:29.458979Z",
     "shell.execute_reply.started": "2021-10-24T09:13:29.452961Z"
    },
    "tags": []
   },
   "outputs": [
    {
     "name": "stdout",
     "output_type": "stream",
     "text": [
      "Mean of standardized X dataset: 1.5189405289106616e-14\n",
      "Maximum value in standardized X dataset: 3.566160233688511\n",
      "Minimum value in standardized X dataset: -2.770690609411453\n"
     ]
    }
   ],
   "source": [
    "mu = np.mean(X_train, axis=0)\n",
    "sigma = np.std(X_train, axis=0)\n",
    "\n",
    "X_train_std = (X_train-mu)/sigma\n",
    "X_test_std = (X_test-mu)/sigma\n",
    "\n",
    "mu_std = np.mean(X_train_std, axis=0)\n",
    "print('Mean of standardized X dataset:', mu_std.sum())\n",
    "print('Maximum value in standardized X dataset:', np.max(X_train_std))\n",
    "print('Minimum value in standardized X dataset:', np.min(X_train_std))"
   ]
  },
  {
   "cell_type": "markdown",
   "id": "0754f62a-ef1e-4c9f-83c3-83351b41b4ce",
   "metadata": {},
   "source": [
    "### Constructing the covariance matrix"
   ]
  },
  {
   "cell_type": "code",
   "execution_count": 6,
   "id": "a33e0b27-e1cc-4d1d-9bc0-cab289d11ece",
   "metadata": {
    "execution": {
     "iopub.execute_input": "2021-10-24T09:13:29.460538Z",
     "iopub.status.busy": "2021-10-24T09:13:29.460358Z",
     "iopub.status.idle": "2021-10-24T09:13:29.856478Z",
     "shell.execute_reply": "2021-10-24T09:13:29.855272Z",
     "shell.execute_reply.started": "2021-10-24T09:13:29.460521Z"
    },
    "tags": []
   },
   "outputs": [
    {
     "name": "stdout",
     "output_type": "stream",
     "text": [
      "(13, 13)\n",
      "2.0721498925372825e-14\n"
     ]
    }
   ],
   "source": [
    "cov_mat = (X_train_std.T @ X_train_std)/(X_train_std.shape[0]-1)\n",
    "sanity_check = (np.abs(np.cov(X_train_std.T)-cov_mat)).sum()\n",
    "print(cov_mat.shape)\n",
    "print(sanity_check)"
   ]
  },
  {
   "cell_type": "markdown",
   "id": "1deb61ea-d975-42d3-8142-169793c27eb0",
   "metadata": {},
   "source": [
    "### Eigendecomposition of the covariance matrix"
   ]
  },
  {
   "cell_type": "code",
   "execution_count": 7,
   "id": "4daed87a-9d64-4df8-b339-28bfbae46d5b",
   "metadata": {
    "execution": {
     "iopub.execute_input": "2021-10-24T09:13:29.858349Z",
     "iopub.status.busy": "2021-10-24T09:13:29.857925Z",
     "iopub.status.idle": "2021-10-24T09:13:29.984421Z",
     "shell.execute_reply": "2021-10-24T09:13:29.983229Z",
     "shell.execute_reply.started": "2021-10-24T09:13:29.858310Z"
    },
    "tags": []
   },
   "outputs": [
    {
     "name": "stdout",
     "output_type": "stream",
     "text": [
      "(13, 13)\n",
      "[4.92948322 2.63132883 1.3053539  1.07271228 0.6806716  0.63887626\n",
      " 0.48991821 0.08534416 0.15961847 0.31882517 0.30181124 0.25244033\n",
      " 0.23845504]\n"
     ]
    }
   ],
   "source": [
    "eigen_vals, eigen_vecs = np.linalg.eig(cov_mat)\n",
    "print(eigen_vecs.shape)\n",
    "print(eigen_vals)"
   ]
  },
  {
   "cell_type": "code",
   "execution_count": 8,
   "id": "6f359223-a92f-4542-98f2-1de347df2377",
   "metadata": {
    "execution": {
     "iopub.execute_input": "2021-10-24T09:13:29.986281Z",
     "iopub.status.busy": "2021-10-24T09:13:29.985791Z",
     "iopub.status.idle": "2021-10-24T09:13:30.111391Z",
     "shell.execute_reply": "2021-10-24T09:13:30.110308Z",
     "shell.execute_reply.started": "2021-10-24T09:13:29.986242Z"
    },
    "tags": []
   },
   "outputs": [
    {
     "name": "stdout",
     "output_type": "stream",
     "text": [
      "0.9999999999999986\n",
      "0.9999999999999994\n",
      "1.000000000000002\n",
      "1.0000000000000016\n",
      "1.0000000000000002\n",
      "1.0\n",
      "0.9999999999999999\n",
      "0.9999999999999992\n",
      "1.0000000000000004\n",
      "0.999999999999999\n",
      "1.0000000000000009\n",
      "0.9999999999999998\n",
      "0.9999999999999983\n"
     ]
    }
   ],
   "source": [
    "# eigenvectors are unit vectors\n",
    "for i in range(13):\n",
    "    print(np.linalg.norm(eigen_vecs[i]))"
   ]
  },
  {
   "cell_type": "markdown",
   "id": "e26a0163-237c-446e-b7ac-7db8798af2d3",
   "metadata": {},
   "source": [
    "### Total and explained variance"
   ]
  },
  {
   "cell_type": "code",
   "execution_count": 9,
   "id": "02ac0e24-8eec-4f8b-a71a-1588c3940b03",
   "metadata": {
    "execution": {
     "iopub.execute_input": "2021-10-24T09:13:30.113431Z",
     "iopub.status.busy": "2021-10-24T09:13:30.112803Z",
     "iopub.status.idle": "2021-10-24T09:13:30.232813Z",
     "shell.execute_reply": "2021-10-24T09:13:30.231618Z",
     "shell.execute_reply.started": "2021-10-24T09:13:30.113393Z"
    },
    "tags": []
   },
   "outputs": [
    {
     "name": "stdout",
     "output_type": "stream",
     "text": [
      "13.104838709677425\n"
     ]
    }
   ],
   "source": [
    "eigen_vals_tot = eigen_vals.sum()\n",
    "print(eigen_vals_tot)"
   ]
  },
  {
   "cell_type": "code",
   "execution_count": 10,
   "id": "34cb4847-d475-401b-b866-4dc224f43a88",
   "metadata": {
    "execution": {
     "iopub.execute_input": "2021-10-24T09:13:30.237498Z",
     "iopub.status.busy": "2021-10-24T09:13:30.237142Z",
     "iopub.status.idle": "2021-10-24T09:13:30.374610Z",
     "shell.execute_reply": "2021-10-24T09:13:30.373199Z",
     "shell.execute_reply.started": "2021-10-24T09:13:30.237460Z"
    },
    "tags": []
   },
   "outputs": [
    {
     "name": "stdout",
     "output_type": "stream",
     "text": [
      "[0.3761574890813303, 0.20079063050156828, 0.09960854394667698, 0.08185619859480776, 0.05194047894157071, 0.0487511729293207, 0.037384528191936515, 0.02432881292481885, 0.02303051927092223, 0.019263139361320947, 0.018195953883758362, 0.012180116746979107, 0.006512415624989267]\n"
     ]
    }
   ],
   "source": [
    "var_exp = [(i / eigen_vals_tot) for i in sorted(eigen_vals, reverse=True)]\n",
    "print(var_exp)"
   ]
  },
  {
   "cell_type": "markdown",
   "id": "df96d208-5831-4d0f-853a-a6d29739dc49",
   "metadata": {},
   "source": [
    "Scree plot"
   ]
  },
  {
   "cell_type": "code",
   "execution_count": 11,
   "id": "220a8f53-b479-458d-af88-80177b8e6c83",
   "metadata": {
    "execution": {
     "iopub.execute_input": "2021-10-24T09:13:30.376358Z",
     "iopub.status.busy": "2021-10-24T09:13:30.376045Z",
     "iopub.status.idle": "2021-10-24T09:13:30.858476Z",
     "shell.execute_reply": "2021-10-24T09:13:30.857684Z",
     "shell.execute_reply.started": "2021-10-24T09:13:30.376320Z"
    },
    "tags": []
   },
   "outputs": [
    {
     "data": {
      "image/png": "[encoded data removed]",
      "text/plain": [
       "<Figure size 432x288 with 1 Axes>"
      ]
     },
     "metadata": {
      "needs_background": "light"
     },
     "output_type": "display_data"
    }
   ],
   "source": [
    "cum_var_exp = np.cumsum(var_exp)\n",
    "\n",
    "import matplotlib.pyplot as plt\n",
    "\n",
    "plt.bar(range(1, len(var_exp)+1), var_exp, alpha=0.5, align='center',\n",
    "        label='Individual explained variance')\n",
    "plt.step(range(1, len(var_exp)+1), cum_var_exp, where='mid',\n",
    "         label='Cumulative explained variance')\n",
    "plt.xlabel('Principal component index')\n",
    "plt.ylabel('Explained variance ratio')\n",
    "plt.legend(loc='best')\n",
    "plt.tight_layout()\n",
    "# plt.savefig('images/PCA-scree-plot.png', dpi=75)\n",
    "plt.show()"
   ]
  },
  {
   "cell_type": "markdown",
   "id": "4392a2e1-443a-4eba-8bb3-f853f051875e",
   "metadata": {},
   "source": [
    "### Feature transformation"
   ]
  },
  {
   "cell_type": "code",
   "execution_count": 12,
   "id": "cf94e1e7-f04c-49b6-b3a2-0fdbed6b899e",
   "metadata": {
    "execution": {
     "iopub.execute_input": "2021-10-24T09:13:30.859853Z",
     "iopub.status.busy": "2021-10-24T09:13:30.859616Z",
     "iopub.status.idle": "2021-10-24T09:13:30.864336Z",
     "shell.execute_reply": "2021-10-24T09:13:30.863616Z",
     "shell.execute_reply.started": "2021-10-24T09:13:30.859823Z"
    },
    "tags": []
   },
   "outputs": [],
   "source": [
    "# Make a list of (eigenvalue, eigenvector) tuples\n",
    "eigen_pairs = [(np.abs(eigen_vals[i]), eigen_vecs[:, i])\n",
    "               for i in range(len(eigen_vals))]\n",
    "\n",
    "# Sort the (eigenvalue, eigenvector) tuples from high to low\n",
    "eigen_pairs.sort(key=lambda k: k[0], reverse=True)"
   ]
  },
  {
   "cell_type": "code",
   "execution_count": 13,
   "id": "40004f9d-22a0-4293-9800-04f0b3447e85",
   "metadata": {
    "execution": {
     "iopub.execute_input": "2021-10-24T09:13:30.865215Z",
     "iopub.status.busy": "2021-10-24T09:13:30.865056Z",
     "iopub.status.idle": "2021-10-24T09:13:31.000234Z",
     "shell.execute_reply": "2021-10-24T09:13:30.999189Z",
     "shell.execute_reply.started": "2021-10-24T09:13:30.865196Z"
    },
    "tags": []
   },
   "outputs": [
    {
     "name": "stdout",
     "output_type": "stream",
     "text": [
      "[[-0.17045478  0.4655508 ]\n",
      " [ 0.23124045  0.14116707]\n",
      " [-0.00842037  0.29032992]\n",
      " [ 0.26890434 -0.03324123]\n",
      " [-0.15050066  0.40844378]\n",
      " [-0.39552547  0.0157164 ]\n",
      " [-0.42785867 -0.03940221]\n",
      " [ 0.30013094  0.02595108]\n",
      " [-0.30669741 -0.00968316]\n",
      " [ 0.0766788   0.52893448]\n",
      " [-0.28332753 -0.25512306]\n",
      " [-0.36624036 -0.21979642]\n",
      " [-0.28019757  0.33966875]]\n"
     ]
    }
   ],
   "source": [
    "W = np.vstack((eigen_pairs[0][1], eigen_pairs[1][1])).T\n",
    "print(W)"
   ]
  },
  {
   "cell_type": "code",
   "execution_count": 14,
   "id": "0a22a5bc-91dd-4284-b06a-8bd2815bb814",
   "metadata": {
    "execution": {
     "iopub.execute_input": "2021-10-24T09:13:31.001966Z",
     "iopub.status.busy": "2021-10-24T09:13:31.001583Z",
     "iopub.status.idle": "2021-10-24T09:13:31.125664Z",
     "shell.execute_reply": "2021-10-24T09:13:31.124747Z",
     "shell.execute_reply.started": "2021-10-24T09:13:31.001928Z"
    },
    "tags": []
   },
   "outputs": [
    {
     "data": {
      "text/plain": [
       "(125, 2)"
      ]
     },
     "execution_count": 14,
     "metadata": {},
     "output_type": "execute_result"
    }
   ],
   "source": [
    "X_train_pca = X_train_std @ W\n",
    "X_train_pca.shape"
   ]
  },
  {
   "cell_type": "code",
   "execution_count": 15,
   "id": "a35ddd92-005a-47ad-8416-75b88bfc43bd",
   "metadata": {
    "execution": {
     "iopub.execute_input": "2021-10-24T09:13:31.127433Z",
     "iopub.status.busy": "2021-10-24T09:13:31.127073Z",
     "iopub.status.idle": "2021-10-24T09:13:31.453494Z",
     "shell.execute_reply": "2021-10-24T09:13:31.452797Z",
     "shell.execute_reply.started": "2021-10-24T09:13:31.127397Z"
    },
    "tags": []
   },
   "outputs": [
    {
     "data": {
      "image/png": "[encoded data removed]",
      "text/plain": [
       "<Figure size 432x288 with 1 Axes>"
      ]
     },
     "metadata": {
      "needs_background": "light"
     },
     "output_type": "display_data"
    }
   ],
   "source": [
    "colors = ['r', 'b', 'g']\n",
    "markers = ['s', 'x', 'o']\n",
    "\n",
    "for label, color, marker in zip(np.unique(y_train), colors, markers):\n",
    "    plt.scatter(X_train_pca[y_train == label, 0], \n",
    "                X_train_pca[y_train == label, 1], \n",
    "                c=color, label=label, marker=marker)\n",
    "\n",
    "plt.xlabel('PC 1')\n",
    "plt.ylabel('PC 2')\n",
    "plt.legend(loc='lower left')\n",
    "plt.tight_layout()\n",
    "# plt.savefig('images/PCA-transformed-data.png', dpi=75)\n",
    "plt.show()"
   ]
  },
  {
   "cell_type": "markdown",
   "id": "1f708028-f5b7-4b64-97ca-ebdfd86a0d72",
   "metadata": {},
   "source": [
    "### PCA in scikit-learn"
   ]
  },
  {
   "cell_type": "code",
   "execution_count": 16,
   "id": "db32df75-6c81-450a-9401-9294de22052e",
   "metadata": {
    "execution": {
     "iopub.execute_input": "2021-10-24T09:13:31.454493Z",
     "iopub.status.busy": "2021-10-24T09:13:31.454349Z",
     "iopub.status.idle": "2021-10-24T09:13:31.460236Z",
     "shell.execute_reply": "2021-10-24T09:13:31.459731Z",
     "shell.execute_reply.started": "2021-10-24T09:13:31.454476Z"
    },
    "tags": []
   },
   "outputs": [
    {
     "name": "stdout",
     "output_type": "stream",
     "text": [
      "(124, 13) (124,)\n",
      "(54, 13) (54,)\n"
     ]
    }
   ],
   "source": [
    "from sklearn.model_selection import train_test_split\n",
    "\n",
    "X_train, X_test, y_train, y_test = \\\n",
    "train_test_split(X, y, test_size=0.3, stratify=y, random_state=0)\n",
    "print(X_train.shape, y_train.shape)\n",
    "print(X_test.shape, y_test.shape)"
   ]
  },
  {
   "cell_type": "code",
   "execution_count": 17,
   "id": "9aab18cc-c2b9-4647-bf91-89260e72e03a",
   "metadata": {
    "execution": {
     "iopub.execute_input": "2021-10-24T09:13:31.461115Z",
     "iopub.status.busy": "2021-10-24T09:13:31.460942Z",
     "iopub.status.idle": "2021-10-24T09:13:31.586702Z",
     "shell.execute_reply": "2021-10-24T09:13:31.585570Z",
     "shell.execute_reply.started": "2021-10-24T09:13:31.461098Z"
    },
    "tags": []
   },
   "outputs": [
    {
     "name": "stdout",
     "output_type": "stream",
     "text": [
      "Mean of standardized X dataset: 1.1873846440130412e-14\n",
      "Maximum value in standardized X dataset: 3.6932366525105946\n",
      "Minimum value in standardized X dataset: -2.55493448916567\n"
     ]
    }
   ],
   "source": [
    "from sklearn.preprocessing import StandardScaler\n",
    "\n",
    "sc = StandardScaler()\n",
    "X_train_std = sc.fit_transform(X_train)\n",
    "X_test_std = sc.transform(X_test)\n",
    "\n",
    "mu_std = np.mean(X_train_std, axis=0)\n",
    "print('Mean of standardized X dataset:', mu_std.sum())\n",
    "print('Maximum value in standardized X dataset:', np.max(X_train_std))\n",
    "print('Minimum value in standardized X dataset:', np.min(X_train_std))"
   ]
  },
  {
   "cell_type": "code",
   "execution_count": 18,
   "id": "e8970234-0fd5-421c-902b-ed3908a843eb",
   "metadata": {
    "execution": {
     "iopub.execute_input": "2021-10-24T09:13:31.588534Z",
     "iopub.status.busy": "2021-10-24T09:13:31.588203Z",
     "iopub.status.idle": "2021-10-24T09:13:31.709734Z",
     "shell.execute_reply": "2021-10-24T09:13:31.708960Z",
     "shell.execute_reply.started": "2021-10-24T09:13:31.588496Z"
    },
    "tags": []
   },
   "outputs": [
    {
     "name": "stdout",
     "output_type": "stream",
     "text": [
      "[0.36951469 0.18434927 0.11815159 0.07334252 0.06422108 0.05051724\n",
      " 0.03954654 0.02643918 0.02389319 0.01629614 0.01380021 0.01172226\n",
      " 0.00820609]\n"
     ]
    }
   ],
   "source": [
    "from sklearn.decomposition import PCA\n",
    "\n",
    "pca = PCA()\n",
    "X_train_pca = pca.fit_transform(X_train_std)\n",
    "print(pca.explained_variance_ratio_)"
   ]
  },
  {
   "cell_type": "code",
   "execution_count": 19,
   "id": "9e6858fa-5a30-43b5-8f0e-53ba0b2f6796",
   "metadata": {
    "execution": {
     "iopub.execute_input": "2021-10-24T09:13:31.710738Z",
     "iopub.status.busy": "2021-10-24T09:13:31.710578Z",
     "iopub.status.idle": "2021-10-24T09:13:31.939855Z",
     "shell.execute_reply": "2021-10-24T09:13:31.939141Z",
     "shell.execute_reply.started": "2021-10-24T09:13:31.710721Z"
    },
    "tags": []
   },
   "outputs": [
    {
     "data": {
      "image/png": "[encoded data removed]",
      "text/plain": [
       "<Figure size 432x288 with 1 Axes>"
      ]
     },
     "metadata": {
      "needs_background": "light"
     },
     "output_type": "display_data"
    }
   ],
   "source": [
    "plt.bar(range(1, len(pca.explained_variance_ratio_)+1), pca.explained_variance_ratio_, alpha=0.5, align='center')\n",
    "plt.step(range(1, len(pca.explained_variance_ratio_)+1), np.cumsum(pca.explained_variance_ratio_), where='mid')\n",
    "plt.ylabel('Explained variance ratio')\n",
    "plt.xlabel('Principal components')\n",
    "\n",
    "plt.show()"
   ]
  },
  {
   "cell_type": "code",
   "execution_count": 20,
   "id": "debfd534-788b-493b-b51e-e7a68079fedf",
   "metadata": {
    "execution": {
     "iopub.execute_input": "2021-10-24T09:13:31.940953Z",
     "iopub.status.busy": "2021-10-24T09:13:31.940784Z",
     "iopub.status.idle": "2021-10-24T09:13:31.947972Z",
     "shell.execute_reply": "2021-10-24T09:13:31.947279Z",
     "shell.execute_reply.started": "2021-10-24T09:13:31.940935Z"
    },
    "tags": []
   },
   "outputs": [],
   "source": [
    "pca = PCA(n_components=2)\n",
    "X_train_pca = pca.fit_transform(X_train_std)\n",
    "X_test_pca = pca.transform(X_test_std)"
   ]
  },
  {
   "cell_type": "code",
   "execution_count": 21,
   "id": "0c23334c-a80a-4820-b282-bc8ccd6ed701",
   "metadata": {
    "execution": {
     "iopub.execute_input": "2021-10-24T09:13:31.948929Z",
     "iopub.status.busy": "2021-10-24T09:13:31.948759Z",
     "iopub.status.idle": "2021-10-24T09:13:32.207893Z",
     "shell.execute_reply": "2021-10-24T09:13:32.207284Z",
     "shell.execute_reply.started": "2021-10-24T09:13:31.948912Z"
    },
    "tags": []
   },
   "outputs": [
    {
     "data": {
      "image/png": "[encoded data removed]",
      "text/plain": [
       "<Figure size 432x288 with 1 Axes>"
      ]
     },
     "metadata": {
      "needs_background": "light"
     },
     "output_type": "display_data"
    }
   ],
   "source": [
    "colors = ['r', 'b', 'g']\n",
    "markers = ['s', 'x', 'o']\n",
    "\n",
    "for label, color, marker in zip(np.unique(y_train), colors, markers):\n",
    "    plt.scatter(X_train_pca[y_train == label, 0], \n",
    "                X_train_pca[y_train == label, 1], \n",
    "                c=color, label=label, marker=marker)\n",
    "\n",
    "plt.xlabel('PC 1')\n",
    "plt.ylabel('PC 2')\n",
    "plt.legend(loc='lower left')\n",
    "plt.tight_layout()\n",
    "# plt.savefig('images/PCA-transformed-data.png', dpi=75)\n",
    "plt.show()"
   ]
  },
  {
   "cell_type": "code",
   "execution_count": 22,
   "id": "cebfacd0-c3e5-4c75-bf2a-ba16645c2d12",
   "metadata": {
    "execution": {
     "iopub.execute_input": "2021-10-24T09:13:32.208876Z",
     "iopub.status.busy": "2021-10-24T09:13:32.208710Z",
     "iopub.status.idle": "2021-10-24T09:13:32.250037Z",
     "shell.execute_reply": "2021-10-24T09:13:32.249032Z",
     "shell.execute_reply.started": "2021-10-24T09:13:32.208859Z"
    },
    "tags": []
   },
   "outputs": [],
   "source": [
    "from matplotlib.colors import ListedColormap\n",
    "\n",
    "def plot_decision_regions(X, y, classifier, resolution=0.02):\n",
    "\n",
    "    # setup marker generator and color map\n",
    "    markers = ('s', 'o', 'v', '^', 'X')\n",
    "    colors = ('red', 'blue', 'lightgreen', 'gray', 'cyan')\n",
    "    cmap = ListedColormap(colors[:len(np.unique(y))])\n",
    "\n",
    "    # plot the decision surface\n",
    "    x1_min, x1_max = X[:, 0].min() - 1, X[:, 0].max() + 1\n",
    "    x2_min, x2_max = X[:, 1].min() - 1, X[:, 1].max() + 1\n",
    "    xx1, xx2 = np.meshgrid(np.arange(x1_min, x1_max, resolution),\n",
    "                           np.arange(x2_min, x2_max, resolution))\n",
    "    Z = classifier.predict(np.array([xx1.ravel(), xx2.ravel()]).T)\n",
    "    Z = Z.reshape(xx1.shape)\n",
    "    plt.contourf(xx1, xx2, Z, alpha=0.4, cmap=cmap)\n",
    "    plt.xlim(xx1.min(), xx1.max())\n",
    "    plt.ylim(xx2.min(), xx2.max())\n",
    "\n",
    "    # plot examples by class\n",
    "    for idx, cl in enumerate(np.unique(y)):\n",
    "        plt.scatter(x=X[y == cl, 0], \n",
    "                    y=X[y == cl, 1],\n",
    "                    alpha=0.6, \n",
    "                    color=cmap(idx),\n",
    "                    edgecolor='black',\n",
    "                    marker=markers[idx], \n",
    "                    label=cl)"
   ]
  },
  {
   "cell_type": "code",
   "execution_count": 23,
   "id": "1df0325e-ed55-4a47-9466-ed763bd0a8b0",
   "metadata": {
    "execution": {
     "iopub.execute_input": "2021-10-24T09:13:32.251520Z",
     "iopub.status.busy": "2021-10-24T09:13:32.251219Z",
     "iopub.status.idle": "2021-10-24T09:13:32.614980Z",
     "shell.execute_reply": "2021-10-24T09:13:32.614244Z",
     "shell.execute_reply.started": "2021-10-24T09:13:32.251492Z"
    },
    "tags": []
   },
   "outputs": [
    {
     "data": {
      "image/png": "[encoded data removed]",
      "text/plain": [
       "<Figure size 432x288 with 1 Axes>"
      ]
     },
     "metadata": {
      "needs_background": "light"
     },
     "output_type": "display_data"
    }
   ],
   "source": [
    "from sklearn.linear_model import LogisticRegression\n",
    "\n",
    "lr = LogisticRegression(multi_class='ovr', random_state=1, solver='lbfgs')\n",
    "lr = lr.fit(X_train_pca, y_train)\n",
    "\n",
    "plot_decision_regions(X_train_pca, y_train, classifier=lr)\n",
    "plt.xlabel('PC 1')\n",
    "plt.ylabel('PC 2')\n",
    "plt.legend(loc='lower left')\n",
    "plt.tight_layout()\n",
    "# plt.savefig('images/PCA-training.png', dpi=75)\n",
    "plt.show()"
   ]
  },
  {
   "cell_type": "code",
   "execution_count": 24,
   "id": "16463b6b-8602-4a91-a31b-9e218b12ae86",
   "metadata": {
    "execution": {
     "iopub.execute_input": "2021-10-24T09:13:32.615918Z",
     "iopub.status.busy": "2021-10-24T09:13:32.615625Z",
     "iopub.status.idle": "2021-10-24T09:13:32.834910Z",
     "shell.execute_reply": "2021-10-24T09:13:32.834207Z",
     "shell.execute_reply.started": "2021-10-24T09:13:32.615887Z"
    },
    "tags": []
   },
   "outputs": [
    {
     "data": {
      "image/png": "[encoded data removed]",
      "text/plain": [
       "<Figure size 432x288 with 1 Axes>"
      ]
     },
     "metadata": {
      "needs_background": "light"
     },
     "output_type": "display_data"
    }
   ],
   "source": [
    "plot_decision_regions(X_test_pca, y_test, classifier=lr)\n",
    "plt.xlabel('PC 1')\n",
    "plt.ylabel('PC 2')\n",
    "plt.legend(loc='lower left')\n",
    "plt.tight_layout()\n",
    "# plt.savefig('images/PCA-prediction.png', dpi=75)\n",
    "plt.show()"
   ]
  },
  {
   "cell_type": "code",
   "execution_count": 25,
   "id": "0b6492ba-7a99-4ec3-948a-79758af91523",
   "metadata": {
    "execution": {
     "iopub.execute_input": "2021-10-24T09:13:32.835696Z",
     "iopub.status.busy": "2021-10-24T09:13:32.835538Z",
     "iopub.status.idle": "2021-10-24T09:13:32.839899Z",
     "shell.execute_reply": "2021-10-24T09:13:32.839455Z",
     "shell.execute_reply.started": "2021-10-24T09:13:32.835679Z"
    },
    "tags": []
   },
   "outputs": [
    {
     "name": "stdout",
     "output_type": "stream",
     "text": [
      "0.9838709677419355 0.9259259259259259\n"
     ]
    }
   ],
   "source": [
    "train_score = np.sum(lr.predict(X_train_pca) == y_train)/y_train.shape[0]\n",
    "test_score = np.sum(lr.predict(X_test_pca) == y_test)/y_test.shape[0]\n",
    "print(train_score, test_score)"
   ]
  },
  {
   "cell_type": "code",
   "execution_count": 26,
   "id": "ae055cb5-563d-4562-83c3-516b1188f03e",
   "metadata": {
    "execution": {
     "iopub.execute_input": "2021-10-24T09:13:32.840691Z",
     "iopub.status.busy": "2021-10-24T09:13:32.840514Z",
     "iopub.status.idle": "2021-10-24T09:13:32.955136Z",
     "shell.execute_reply": "2021-10-24T09:13:32.954149Z",
     "shell.execute_reply.started": "2021-10-24T09:13:32.840674Z"
    }
   },
   "outputs": [
    {
     "name": "stdout",
     "output_type": "stream",
     "text": [
      "4\n"
     ]
    }
   ],
   "source": [
    "test_got_wrong = y_test.shape[0] - np.sum(lr.predict(X_test_pca) == y_test)\n",
    "print(test_got_wrong)"
   ]
  },
  {
   "cell_type": "markdown",
   "id": "e4945606-478a-4500-93fb-211f569d5252",
   "metadata": {},
   "source": [
    "## Linear discriminant analysis"
   ]
  },
  {
   "cell_type": "markdown",
   "id": "645baa65-6b79-4f02-88f9-1252d495d4b0",
   "metadata": {
    "tags": []
   },
   "source": [
    "### Scatter matrices"
   ]
  },
  {
   "cell_type": "markdown",
   "id": "61902e27-b414-4e35-883a-327c3d09fe6e",
   "metadata": {},
   "source": [
    "Compute the within-class scatter matrix"
   ]
  },
  {
   "cell_type": "code",
   "execution_count": 27,
   "id": "f7f8aed6-d5a3-4d4c-96c4-c2a5526ff87f",
   "metadata": {
    "execution": {
     "iopub.execute_input": "2021-10-24T09:13:32.956863Z",
     "iopub.status.busy": "2021-10-24T09:13:32.956536Z",
     "iopub.status.idle": "2021-10-24T09:13:33.076812Z",
     "shell.execute_reply": "2021-10-24T09:13:33.075498Z",
     "shell.execute_reply.started": "2021-10-24T09:13:32.956833Z"
    },
    "tags": []
   },
   "outputs": [
    {
     "data": {
      "text/plain": [
       "array([[ 50.7221,   3.1007,  -7.9323,  -5.7848,  -2.8879],\n",
       "       [  3.1007,  90.1791,   4.7074,  14.7501, -10.9   ],\n",
       "       [ -7.9323,   4.7074, 111.8916,  70.1256,  22.2134],\n",
       "       [ -5.7848,  14.7501,  70.1256,  92.1468,  12.4845],\n",
       "       [ -2.8879, -10.9   ,  22.2134,  12.4845, 106.0488]])"
      ]
     },
     "execution_count": 27,
     "metadata": {},
     "output_type": "execute_result"
    }
   ],
   "source": [
    "np.set_printoptions(precision=4)\n",
    "\n",
    "d = X_train_std.shape[1]\n",
    "S_W = np.zeros((d, d))\n",
    "mean_vecs = list()\n",
    "\n",
    "for label in np.unique(y_train):\n",
    "    A = X_train_std[y_train == label]\n",
    "    mu = np.mean(A, axis=0) # mean vector per class\n",
    "    mean_vecs.append(mu)\n",
    "    S_W += (A - mu).T @ (A - mu)\n",
    "S_W[:5,:5]"
   ]
  },
  {
   "cell_type": "code",
   "execution_count": 28,
   "id": "854730ac-fd05-47a9-b634-8e048d178868",
   "metadata": {
    "execution": {
     "iopub.execute_input": "2021-10-24T09:13:33.082624Z",
     "iopub.status.busy": "2021-10-24T09:13:33.082480Z",
     "iopub.status.idle": "2021-10-24T09:13:33.188133Z",
     "shell.execute_reply": "2021-10-24T09:13:33.187008Z",
     "shell.execute_reply.started": "2021-10-24T09:13:33.082608Z"
    }
   },
   "outputs": [
    {
     "name": "stdout",
     "output_type": "stream",
     "text": [
      "Class label distribution: [41 50 33]\n"
     ]
    }
   ],
   "source": [
    "print('Class label distribution: %s' \n",
    "      % np.bincount(y_train)[1:])"
   ]
  },
  {
   "cell_type": "code",
   "execution_count": 29,
   "id": "819b9946-6c11-43f6-97c5-652e738b0f82",
   "metadata": {
    "execution": {
     "iopub.execute_input": "2021-10-24T09:13:33.190190Z",
     "iopub.status.busy": "2021-10-24T09:13:33.189585Z",
     "iopub.status.idle": "2021-10-24T09:13:33.308620Z",
     "shell.execute_reply": "2021-10-24T09:13:33.307616Z",
     "shell.execute_reply.started": "2021-10-24T09:13:33.190151Z"
    },
    "tags": []
   },
   "outputs": [
    {
     "data": {
      "text/plain": [
       "array([[ 1.2448,  0.0967, -0.1276, -0.1105, -0.0726],\n",
       "       [ 0.0967,  2.2666,  0.1168,  0.3517, -0.2622],\n",
       "       [-0.1276,  0.1168,  2.6024,  1.6442,  0.5364],\n",
       "       [-0.1105,  0.3517,  1.6442,  2.1604,  0.325 ],\n",
       "       [-0.0726, -0.2622,  0.5364,  0.325 ,  2.4397]])"
      ]
     },
     "execution_count": 29,
     "metadata": {},
     "output_type": "execute_result"
    }
   ],
   "source": [
    "S_W = np.zeros((d, d))\n",
    "\n",
    "for label, mu in zip(np.unique(y_train), mean_vecs):\n",
    "    A = X_train_std[y_train == label]\n",
    "    S_W += ((A - mu).T @ (A - mu))/(A.shape[0]-1)\n",
    "S_W[:5,:5]"
   ]
  },
  {
   "cell_type": "code",
   "execution_count": 30,
   "id": "90cf0b20-797a-4261-8009-a4540d580b81",
   "metadata": {
    "execution": {
     "iopub.execute_input": "2021-10-24T09:13:33.310108Z",
     "iopub.status.busy": "2021-10-24T09:13:33.309743Z",
     "iopub.status.idle": "2021-10-24T09:13:33.417434Z",
     "shell.execute_reply": "2021-10-24T09:13:33.416270Z",
     "shell.execute_reply.started": "2021-10-24T09:13:33.310082Z"
    }
   },
   "outputs": [
    {
     "data": {
      "text/plain": [
       "array([[ 1.2448,  0.0967, -0.1276, -0.1105, -0.0726],\n",
       "       [ 0.0967,  2.2666,  0.1168,  0.3517, -0.2622],\n",
       "       [-0.1276,  0.1168,  2.6024,  1.6442,  0.5364],\n",
       "       [-0.1105,  0.3517,  1.6442,  2.1604,  0.325 ],\n",
       "       [-0.0726, -0.2622,  0.5364,  0.325 ,  2.4397]])"
      ]
     },
     "execution_count": 30,
     "metadata": {},
     "output_type": "execute_result"
    }
   ],
   "source": [
    "S_W = np.zeros((d, d))\n",
    "\n",
    "for label in np.unique(y_train):\n",
    "    # another way to do the same thing\n",
    "    S_W += np.cov(X_train_std[y_train == label].T)\n",
    "S_W[:5,:5]"
   ]
  },
  {
   "cell_type": "markdown",
   "id": "95a50411-47f9-42d6-9ba0-822493008b41",
   "metadata": {},
   "source": [
    "Compute the between-class scatter matrix"
   ]
  },
  {
   "cell_type": "code",
   "execution_count": 31,
   "id": "4f2e4cf8-fbea-4945-80a6-8d8d48f29034",
   "metadata": {
    "execution": {
     "iopub.execute_input": "2021-10-24T09:13:33.419251Z",
     "iopub.status.busy": "2021-10-24T09:13:33.418931Z",
     "iopub.status.idle": "2021-10-24T09:13:33.526546Z",
     "shell.execute_reply": "2021-10-24T09:13:33.525319Z",
     "shell.execute_reply.started": "2021-10-24T09:13:33.419213Z"
    },
    "tags": []
   },
   "outputs": [
    {
     "data": {
      "text/plain": [
       "array([[ 73.2779,   5.1521,  29.3409, -37.8053,  35.3288],\n",
       "       [  5.1521,  33.8209,   5.5342,  17.6688,  -3.0595],\n",
       "       [ 29.3409,   5.5342,  12.1084, -13.0286,  13.5707],\n",
       "       [-37.8053,  17.6688, -13.0286,  31.8532, -21.5944],\n",
       "       [ 35.3288,  -3.0595,  13.5707, -21.5944,  17.9512]])"
      ]
     },
     "execution_count": 31,
     "metadata": {},
     "output_type": "execute_result"
    }
   ],
   "source": [
    "mean_overall = np.mean(X_train_std, axis=0)\n",
    "mean_overall = mean_overall.reshape(d, 1)  # make column vector\n",
    "S_B = np.zeros((d, d))\n",
    "\n",
    "for label, mu in zip(np.unique(y_train), mean_vecs):\n",
    "    A = X_train_std[y_train == label]\n",
    "    n = A.shape[0]\n",
    "    mu = mu.reshape(d, 1)  # make column vector\n",
    "    S_B += n * (mu - mean_overall).dot((mu - mean_overall).T)\n",
    "S_B[:5,:5]"
   ]
  },
  {
   "cell_type": "markdown",
   "id": "a9d41afc-f0f5-4d67-b8dc-e0d5885b1b01",
   "metadata": {},
   "source": [
    "### Computing linear discriminants"
   ]
  },
  {
   "cell_type": "code",
   "execution_count": 32,
   "id": "4a8de22d-53e5-4307-91dc-42e734398f74",
   "metadata": {
    "execution": {
     "iopub.execute_input": "2021-10-24T09:13:33.528364Z",
     "iopub.status.busy": "2021-10-24T09:13:33.528044Z",
     "iopub.status.idle": "2021-10-24T09:13:33.645616Z",
     "shell.execute_reply": "2021-10-24T09:13:33.644390Z",
     "shell.execute_reply.started": "2021-10-24T09:13:33.528326Z"
    },
    "tags": []
   },
   "outputs": [
    {
     "name": "stdout",
     "output_type": "stream",
     "text": [
      "Eigenvalues in descending order:\n",
      "\n",
      "4.929483223848081\n",
      "2.6313288271374886\n",
      "1.3053539025270176\n",
      "1.0727122799722797\n",
      "0.6806715990326809\n",
      "0.6388762581463401\n",
      "0.4899182121927167\n",
      "0.31882516937766653\n",
      "0.3018112404455535\n",
      "0.25244033437214963\n",
      "0.23845504081538188\n",
      "0.15961846543420208\n",
      "0.08534415637586744\n"
     ]
    }
   ],
   "source": [
    "eigen_vals, eigen_vecs = np.linalg.eig(np.linalg.inv(S_W).dot(S_B))\n",
    "\n",
    "print('Eigenvalues in descending order:\\n')\n",
    "for eigen_val in eigen_pairs:\n",
    "    print(eigen_val[0])"
   ]
  },
  {
   "cell_type": "code",
   "execution_count": 33,
   "id": "2a982684-2ae3-4da7-9478-ed398491701d",
   "metadata": {
    "execution": {
     "iopub.execute_input": "2021-10-24T09:13:33.647433Z",
     "iopub.status.busy": "2021-10-24T09:13:33.647179Z",
     "iopub.status.idle": "2021-10-24T09:13:34.004904Z",
     "shell.execute_reply": "2021-10-24T09:13:34.004099Z",
     "shell.execute_reply.started": "2021-10-24T09:13:33.647403Z"
    },
    "tags": []
   },
   "outputs": [
    {
     "data": {
      "image/png": "[encoded data removed]",
      "text/plain": [
       "<Figure size 432x288 with 1 Axes>"
      ]
     },
     "metadata": {
      "needs_background": "light"
     },
     "output_type": "display_data"
    }
   ],
   "source": [
    "eigen_vals_tot = np.sum(eigen_vals.real)\n",
    "discr = [(i / eigen_vals_tot) for i in sorted(eigen_vals.real, reverse=True)]\n",
    "cum_discr = np.cumsum(discr)\n",
    "\n",
    "plt.bar(range(1, 14), discr, alpha=0.5, align='center',\n",
    "        label='Individual \"discriminability\"')\n",
    "plt.step(range(1, 14), cum_discr, where='mid',\n",
    "         label='Cumulative \"discriminability\"')\n",
    "plt.ylabel('\"Discriminability\" ratio')\n",
    "plt.xlabel('Linear discriminants')\n",
    "plt.ylim([-0.1, 1.1])\n",
    "plt.legend(loc='best')\n",
    "plt.tight_layout()\n",
    "# plt.savefig('images/LDA-Scree-plot.png', dpi=75)\n",
    "plt.show()"
   ]
  },
  {
   "cell_type": "markdown",
   "id": "44497573-af64-4589-b251-cf1ff402c7dc",
   "metadata": {},
   "source": [
    "### Feature transformation"
   ]
  },
  {
   "cell_type": "code",
   "execution_count": 34,
   "id": "553050ae-87fd-438a-bc03-d729d328dda1",
   "metadata": {
    "execution": {
     "iopub.execute_input": "2021-10-24T09:13:34.006076Z",
     "iopub.status.busy": "2021-10-24T09:13:34.005873Z",
     "iopub.status.idle": "2021-10-24T09:13:34.012832Z",
     "shell.execute_reply": "2021-10-24T09:13:34.012057Z",
     "shell.execute_reply.started": "2021-10-24T09:13:34.006052Z"
    },
    "tags": []
   },
   "outputs": [
    {
     "name": "stdout",
     "output_type": "stream",
     "text": [
      "[[-0.1481 -0.4092]\n",
      " [ 0.0908 -0.1577]\n",
      " [-0.0168 -0.3537]\n",
      " [ 0.1484  0.3223]\n",
      " [-0.0163 -0.0817]\n",
      " [ 0.1913  0.0842]\n",
      " [-0.7338  0.2823]\n",
      " [-0.075  -0.0102]\n",
      " [ 0.0018  0.0907]\n",
      " [ 0.294  -0.2152]\n",
      " [-0.0328  0.2747]\n",
      " [-0.3547 -0.0124]\n",
      " [-0.3915 -0.5958]]\n"
     ]
    }
   ],
   "source": [
    "eigen_pairs = [(np.abs(eigen_vals[i]), eigen_vecs[:, i])\n",
    "               for i in range(len(eigen_vals))]\n",
    "\n",
    "eigen_pairs.sort(key=lambda k: k[0], reverse=True)\n",
    "\n",
    "W = np.vstack((eigen_pairs[0][1].real, eigen_pairs[1][1].real)).T\n",
    "\n",
    "X_train_lda = X_train_std @ W\n",
    "print(W)"
   ]
  },
  {
   "cell_type": "code",
   "execution_count": 35,
   "id": "068a2dd6-0816-4bb8-8b1a-ad6ed8b6215b",
   "metadata": {
    "execution": {
     "iopub.execute_input": "2021-10-24T09:13:34.014156Z",
     "iopub.status.busy": "2021-10-24T09:13:34.013875Z",
     "iopub.status.idle": "2021-10-24T09:13:34.253596Z",
     "shell.execute_reply": "2021-10-24T09:13:34.252932Z",
     "shell.execute_reply.started": "2021-10-24T09:13:34.014128Z"
    },
    "tags": []
   },
   "outputs": [
    {
     "data": {
      "image/png": "[encoded data removed]",
      "text/plain": [
       "<Figure size 432x288 with 1 Axes>"
      ]
     },
     "metadata": {
      "needs_background": "light"
     },
     "output_type": "display_data"
    }
   ],
   "source": [
    "colors = ['r', 'b', 'g']\n",
    "markers = ['s', 'x', 'o']\n",
    "\n",
    "for label, color, marker in zip(np.unique(y_train), colors, markers):\n",
    "    plt.scatter(X_train_lda[y_train == label, 0], \n",
    "                X_train_lda[y_train == label, 1], \n",
    "                c=color, label=label, marker=marker)\n",
    "\n",
    "plt.xlabel('LD 1')\n",
    "plt.ylabel('LD 2')\n",
    "plt.legend(loc='upper right')\n",
    "plt.tight_layout()\n",
    "# plt.savefig('images/LDA-transformed-data.png', dpi=75)\n",
    "plt.show()"
   ]
  },
  {
   "cell_type": "markdown",
   "id": "09c16480-bc41-4002-af4f-10fd4bec7295",
   "metadata": {},
   "source": [
    "## LDA in scikit-learn"
   ]
  },
  {
   "cell_type": "code",
   "execution_count": 36,
   "id": "de62a5da-630a-4717-b2ce-a822b803dda4",
   "metadata": {
    "execution": {
     "iopub.execute_input": "2021-10-24T09:13:34.254643Z",
     "iopub.status.busy": "2021-10-24T09:13:34.254466Z",
     "iopub.status.idle": "2021-10-24T09:13:34.261956Z",
     "shell.execute_reply": "2021-10-24T09:13:34.261261Z",
     "shell.execute_reply.started": "2021-10-24T09:13:34.254625Z"
    },
    "tags": []
   },
   "outputs": [],
   "source": [
    "from sklearn.discriminant_analysis import LinearDiscriminantAnalysis as LDA\n",
    "\n",
    "lda = LDA(n_components=2)\n",
    "X_train_lda = lda.fit_transform(X_train_std, y_train)"
   ]
  },
  {
   "cell_type": "code",
   "execution_count": 37,
   "id": "9dda7fa7-0d1f-40a9-8cd5-0ad065d23437",
   "metadata": {
    "execution": {
     "iopub.execute_input": "2021-10-24T09:13:34.262895Z",
     "iopub.status.busy": "2021-10-24T09:13:34.262727Z",
     "iopub.status.idle": "2021-10-24T09:13:34.641746Z",
     "shell.execute_reply": "2021-10-24T09:13:34.641126Z",
     "shell.execute_reply.started": "2021-10-24T09:13:34.262872Z"
    },
    "tags": []
   },
   "outputs": [
    {
     "data": {
      "image/png": "[encoded data removed]",
      "text/plain": [
       "<Figure size 432x288 with 1 Axes>"
      ]
     },
     "metadata": {
      "needs_background": "light"
     },
     "output_type": "display_data"
    }
   ],
   "source": [
    "from sklearn.linear_model import LogisticRegression\n",
    "\n",
    "lr = LogisticRegression(multi_class='ovr', random_state=1, solver='lbfgs')\n",
    "lr = lr.fit(X_train_lda, y_train)\n",
    "\n",
    "plot_decision_regions(X_train_lda, y_train, classifier=lr)\n",
    "plt.xlabel('LD 1')\n",
    "plt.ylabel('LD 2')\n",
    "plt.legend(loc='lower left')\n",
    "plt.tight_layout()\n",
    "# plt.savefig('images/LDA-training.png', dpi=75)\n",
    "plt.show()"
   ]
  },
  {
   "cell_type": "code",
   "execution_count": 38,
   "id": "3bad3854-9afc-4f49-abc3-ddf11eea6229",
   "metadata": {
    "execution": {
     "iopub.execute_input": "2021-10-24T09:13:34.642769Z",
     "iopub.status.busy": "2021-10-24T09:13:34.642608Z",
     "iopub.status.idle": "2021-10-24T09:13:34.878821Z",
     "shell.execute_reply": "2021-10-24T09:13:34.878193Z",
     "shell.execute_reply.started": "2021-10-24T09:13:34.642752Z"
    },
    "tags": []
   },
   "outputs": [
    {
     "data": {
      "image/png": "[encoded data removed]",
      "text/plain": [
       "<Figure size 432x288 with 1 Axes>"
      ]
     },
     "metadata": {
      "needs_background": "light"
     },
     "output_type": "display_data"
    }
   ],
   "source": [
    "X_test_lda = lda.transform(X_test_std)\n",
    "\n",
    "plot_decision_regions(X_test_lda, y_test, classifier=lr)\n",
    "plt.xlabel('LD 1')\n",
    "plt.ylabel('LD 2')\n",
    "plt.legend(loc='lower left')\n",
    "plt.tight_layout()\n",
    "# plt.savefig('images/LDA-prediction', dpi=75)\n",
    "plt.show()"
   ]
  },
  {
   "cell_type": "code",
   "execution_count": 39,
   "id": "941bb0cd-76b6-4d64-aaa2-acef95eae96a",
   "metadata": {
    "execution": {
     "iopub.execute_input": "2021-10-24T09:13:34.879934Z",
     "iopub.status.busy": "2021-10-24T09:13:34.879586Z",
     "iopub.status.idle": "2021-10-24T09:13:34.884249Z",
     "shell.execute_reply": "2021-10-24T09:13:34.883839Z",
     "shell.execute_reply.started": "2021-10-24T09:13:34.879917Z"
    },
    "tags": []
   },
   "outputs": [
    {
     "name": "stdout",
     "output_type": "stream",
     "text": [
      "1.0 1.0\n"
     ]
    }
   ],
   "source": [
    "train_score = np.sum(lr.predict(X_train_lda) == y_train)/y_train.shape[0]\n",
    "test_score = np.sum(lr.predict(X_test_lda) == y_test)/y_test.shape[0]\n",
    "print(train_score, test_score)"
   ]
  },
  {
   "cell_type": "code",
   "execution_count": 40,
   "id": "91d00618-08f0-4034-a684-fb30f645a8e7",
   "metadata": {
    "execution": {
     "iopub.execute_input": "2021-10-24T09:13:34.884982Z",
     "iopub.status.busy": "2021-10-24T09:13:34.884842Z",
     "iopub.status.idle": "2021-10-24T09:13:35.012314Z",
     "shell.execute_reply": "2021-10-24T09:13:35.011443Z",
     "shell.execute_reply.started": "2021-10-24T09:13:34.884966Z"
    },
    "tags": []
   },
   "outputs": [
    {
     "name": "stdout",
     "output_type": "stream",
     "text": [
      "0\n"
     ]
    }
   ],
   "source": [
    "test_got_wrong = y_test.shape[0] - np.sum(lr.predict(X_test_lda) == y_test)\n",
    "print(test_got_wrong)"
   ]
  },
  {
   "cell_type": "markdown",
   "id": "5abcfd65-9489-4020-9a76-b9f1d3d0d72f",
   "metadata": {
    "tags": []
   },
   "source": [
    "## Miscellaneous"
   ]
  },
  {
   "cell_type": "markdown",
   "id": "649c9c54-840c-4a08-bfbc-e413b633f160",
   "metadata": {},
   "source": [
    "### Comparison of variances"
   ]
  },
  {
   "cell_type": "code",
   "execution_count": 41,
   "id": "c9ffbc51-9dc4-4671-bf4c-3552cd7b5799",
   "metadata": {
    "execution": {
     "iopub.execute_input": "2021-10-24T09:13:35.013719Z",
     "iopub.status.busy": "2021-10-24T09:13:35.013443Z",
     "iopub.status.idle": "2021-10-24T09:13:35.512929Z",
     "shell.execute_reply": "2021-10-24T09:13:35.512237Z",
     "shell.execute_reply.started": "2021-10-24T09:13:35.013668Z"
    },
    "tags": []
   },
   "outputs": [
    {
     "data": {
      "image/png": "[encoded data removed]",
      "text/plain": [
       "<Figure size 432x288 with 1 Axes>"
      ]
     },
     "metadata": {
      "needs_background": "light"
     },
     "output_type": "display_data"
    }
   ],
   "source": [
    "seed = 0\n",
    "mu, sigma1, sigma2 = 100, 40, 15\n",
    "\n",
    "rng = np.random.default_rng(seed)\n",
    "x1 = rng.normal(mu, sigma1, 1000)\n",
    "x2 = rng.normal(mu, sigma2, 1000)\n",
    "\n",
    "# the histogram of the data\n",
    "n, bins, patches = plt.hist(x1, 50, density=True, facecolor='b', alpha=0.75)\n",
    "plt.plot(bins, 1/(sigma1 * np.sqrt(2 * np.pi)) *\n",
    "         np.exp( - (bins - mu)**2 / (2 * sigma1**2) ),\n",
    "         linewidth=2, color='b')\n",
    "n, bins, patches = plt.hist(x2, 50, density=True, facecolor='g', alpha=0.75)\n",
    "plt.plot(bins, 1/(sigma2 * np.sqrt(2 * np.pi)) *\n",
    "         np.exp( - (bins - mu)**2 / (2 * sigma2**2) ),\n",
    "         linewidth=2, color='g')\n",
    "\n",
    "plt.title('Comparison of variances')\n",
    "plt.text(120, .025, r'$\\mu=100,\\ \\sigma^2=225$')\n",
    "plt.text(150, .006, r'$\\mu=100,\\ \\sigma^2=1600$')\n",
    "plt.xlabel('Data values')\n",
    "plt.ylabel('Likelihood')\n",
    "plt.xlim(-25, 225)\n",
    "plt.ylim(0, 0.035)\n",
    "plt.grid(True)\n",
    "# plt.savefig('images/comparison-of-variances.png', dpi=75)\n",
    "plt.show()"
   ]
  },
  {
   "cell_type": "markdown",
   "id": "874f5877-e4aa-42f9-800e-6b38895c0002",
   "metadata": {},
   "source": [
    "### Variances of standardized data"
   ]
  },
  {
   "cell_type": "code",
   "execution_count": 42,
   "id": "16a36a7c-7791-4260-b61f-6676fee162f4",
   "metadata": {
    "execution": {
     "iopub.execute_input": "2021-10-24T09:13:35.513961Z",
     "iopub.status.busy": "2021-10-24T09:13:35.513727Z",
     "iopub.status.idle": "2021-10-24T09:13:35.779321Z",
     "shell.execute_reply": "2021-10-24T09:13:35.778553Z",
     "shell.execute_reply.started": "2021-10-24T09:13:35.513944Z"
    },
    "tags": []
   },
   "outputs": [
    {
     "data": {
      "image/png": "[encoded data removed]",
      "text/plain": [
       "<Figure size 432x288 with 1 Axes>"
      ]
     },
     "metadata": {
      "needs_background": "light"
     },
     "output_type": "display_data"
    }
   ],
   "source": [
    "x1_std = (x1-mu)/sigma1\n",
    "x2_std = (x2-mu)/sigma2\n",
    "\n",
    "# the histogram of the data\n",
    "n, bins, patches = plt.hist(x1_std, 50, density=True, facecolor='b', alpha=0.75)\n",
    "plt.plot(bins, 1/(1 * np.sqrt(2 * np.pi)) *\n",
    "         np.exp( - (bins - 0)**2 / (2 * 1**2) ),\n",
    "         linewidth=2, color='b')\n",
    "n, bins, patches = plt.hist(x2_std, 50, density=True, facecolor='g', alpha=0.75)\n",
    "plt.plot(bins, 1/(1 * np.sqrt(2 * np.pi)) *\n",
    "         np.exp( - (bins - 0)**2 / (2 * 1**2) ),\n",
    "         linewidth=2, color='g')\n",
    "\n",
    "plt.title('Standardized data')\n",
    "plt.text(1, .4, r'$\\mu=0,\\ \\sigma^2=1$')\n",
    "plt.xlabel('Standard deviation')\n",
    "plt.ylabel('Likelihood')\n",
    "plt.xlim(-5, 5)\n",
    "plt.ylim(0, 0.5)\n",
    "plt.grid(True)\n",
    "# plt.savefig('images/standardized-data.png', dpi=75)\n",
    "plt.show()"
   ]
  },
  {
   "cell_type": "markdown",
   "id": "1c6d42d3-76c3-4db4-beec-1a5b27a36afa",
   "metadata": {},
   "source": [
    "### Histogram of dataset features"
   ]
  },
  {
   "cell_type": "code",
   "execution_count": 43,
   "id": "0ca8cbbf-48cc-4e3f-ad73-083492847233",
   "metadata": {
    "execution": {
     "iopub.execute_input": "2021-10-24T09:13:35.780507Z",
     "iopub.status.busy": "2021-10-24T09:13:35.780099Z",
     "iopub.status.idle": "2021-10-24T09:13:38.033137Z",
     "shell.execute_reply": "2021-10-24T09:13:38.032473Z",
     "shell.execute_reply.started": "2021-10-24T09:13:35.780475Z"
    },
    "tags": []
   },
   "outputs": [
    {
     "data": {
      "image/png": "[encoded data removed]",
      "text/plain": [
       "<Figure size 432x288 with 1 Axes>"
      ]
     },
     "metadata": {
      "needs_background": "light"
     },
     "output_type": "display_data"
    },
    {
     "data": {
      "image/png": "[encoded data removed]",
      "text/plain": [
       "<Figure size 432x288 with 1 Axes>"
      ]
     },
     "metadata": {
      "needs_background": "light"
     },
     "output_type": "display_data"
    },
    {
     "data": {
      "image/png": "[encoded data removed]",
      "text/plain": [
       "<Figure size 432x288 with 1 Axes>"
      ]
     },
     "metadata": {
      "needs_background": "light"
     },
     "output_type": "display_data"
    },
    {
     "data": {
      "image/png": "[encoded data removed]",
      "text/plain": [
       "<Figure size 432x288 with 1 Axes>"
      ]
     },
     "metadata": {
      "needs_background": "light"
     },
     "output_type": "display_data"
    },
    {
     "data": {
      "image/png": "[encoded data removed]",
      "text/plain": [
       "<Figure size 432x288 with 1 Axes>"
      ]
     },
     "metadata": {
      "needs_background": "light"
     },
     "output_type": "display_data"
    },
    {
     "data": {
      "image/png": "[encoded data removed]",
      "text/plain": [
       "<Figure size 432x288 with 1 Axes>"
      ]
     },
     "metadata": {
      "needs_background": "light"
     },
     "output_type": "display_data"
    },
    {
     "data": {
      "image/png": "[encoded data removed]",
      "text/plain": [
       "<Figure size 432x288 with 1 Axes>"
      ]
     },
     "metadata": {
      "needs_background": "light"
     },
     "output_type": "display_data"
    },
    {
     "data": {
      "image/png": "[encoded data removed]",
      "text/plain": [
       "<Figure size 432x288 with 1 Axes>"
      ]
     },
     "metadata": {
      "needs_background": "light"
     },
     "output_type": "display_data"
    },
    {
     "data": {
      "image/png": "[encoded data removed]",
      "text/plain": [
       "<Figure size 432x288 with 1 Axes>"
      ]
     },
     "metadata": {
      "needs_background": "light"
     },
     "output_type": "display_data"
    },
    {
     "data": {
      "image/png": "[encoded data removed]",
      "text/plain": [
       "<Figure size 432x288 with 1 Axes>"
      ]
     },
     "metadata": {
      "needs_background": "light"
     },
     "output_type": "display_data"
    },
    {
     "data": {
      "image/png": "[encoded data removed]",
      "text/plain": [
       "<Figure size 432x288 with 1 Axes>"
      ]
     },
     "metadata": {
      "needs_background": "light"
     },
     "output_type": "display_data"
    },
    {
     "data": {
      "image/png": "[encoded data removed]",
      "text/plain": [
       "<Figure size 432x288 with 1 Axes>"
      ]
     },
     "metadata": {
      "needs_background": "light"
     },
     "output_type": "display_data"
    },
    {
     "data": {
      "image/png": "[encoded data removed]",
      "text/plain": [
       "<Figure size 432x288 with 1 Axes>"
      ]
     },
     "metadata": {
      "needs_background": "light"
     },
     "output_type": "display_data"
    }
   ],
   "source": [
    "for i in range(13):\n",
    "    n, bins, patches = plt.hist(X[:,i], 50, density=True, facecolor='b', alpha=0.75)\n",
    "    plt.title(f'Feature {i+1}')\n",
    "    plt.show()"
   ]
  },
  {
   "cell_type": "code",
   "execution_count": null,
   "id": "f3dbe1e0-5eca-4ea4-acf3-fffbe668bf31",
   "metadata": {},
   "outputs": [],
   "source": []
  }
 ],
 "metadata": {
  "kernelspec": {
   "display_name": "Python 3.8 (Scikit-learn)",
   "language": "python",
   "name": "scikit-learn"
  },
  "language_info": {
   "codemirror_mode": {
    "name": "ipython",
    "version": 3
   },
   "file_extension": ".py",
   "mimetype": "text/x-python",
   "name": "python",
   "nbconvert_exporter": "python",
   "pygments_lexer": "ipython3",
   "version": "3.8.10"
  }
 },
 "nbformat": 4,
 "nbformat_minor": 5
}
