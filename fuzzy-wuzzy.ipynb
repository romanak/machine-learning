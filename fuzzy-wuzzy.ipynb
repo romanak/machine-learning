{
 "cells": [
  {
   "cell_type": "markdown",
   "id": "78c3310f-75ed-43d3-af36-77114bfabb13",
   "metadata": {},
   "source": [
    "# Fuzzy Wuzzy"
   ]
  },
  {
   "cell_type": "markdown",
   "id": "18a574e4-1ead-458b-ad32-dbe54bdb3b97",
   "metadata": {},
   "source": [
    "## Why use Fuzzy Wuzzy?"
   ]
  },
  {
   "cell_type": "markdown",
   "id": "aa4f3a80-6e99-44b6-8e94-51013d3c99ea",
   "metadata": {},
   "source": [
    "- Input source cannot be guaranteed 100% accurate\n",
    "- Optical Character Engine (OCR) output\n",
    "- Alias name: Fuzzy Wuzzy is simpler than word embeddings \\[Taiwan $\\approx$ Taiwan (R.O.C.)\\]"
   ]
  },
  {
   "cell_type": "markdown",
   "id": "e033fadb-6180-41b2-b165-b0fa1df7149c",
   "metadata": {
    "execution": {
     "iopub.execute_input": "2021-10-21T14:29:10.723510Z",
     "iopub.status.busy": "2021-10-21T14:29:10.723025Z",
     "iopub.status.idle": "2021-10-21T14:29:10.845146Z",
     "shell.execute_reply": "2021-10-21T14:29:10.843790Z",
     "shell.execute_reply.started": "2021-10-21T14:29:10.723466Z"
    }
   },
   "source": [
    "![image](images/googlesearch.png)"
   ]
  },
  {
   "cell_type": "markdown",
   "id": "18b72d54",
   "metadata": {
    "tags": []
   },
   "source": [
    "## Fuzzy Wuzzy facts"
   ]
  },
  {
   "cell_type": "markdown",
   "id": "bd5b7925-594a-40a2-8466-65b6426de4d8",
   "metadata": {},
   "source": [
    "- Fuzzy Wuzzy is a library that uses Levenshtein Distance to calculate the differences between sequences\n",
    "- It is Open Source on [Github](https://github.com/seatgeek/fuzzywuzzy/blob/master/fuzzywuzzy)\n",
    "- Can improve your model by up to 5% accuracy\n",
    "- Requires Python 2.4 or higher\n",
    "- Requires python-Levenshtein"
   ]
  },
  {
   "cell_type": "markdown",
   "id": "5c49a445-1dab-490a-bfc5-4932740690f0",
   "metadata": {},
   "source": [
    "## Installation"
   ]
  },
  {
   "cell_type": "markdown",
   "id": "33a9a6ad-78a4-49ff-8d6b-06c1f2d62918",
   "metadata": {},
   "source": [
    "```\n",
    "pip install fuzzywuzzy\n",
    "pip install python-Levenshtein\n",
    "```"
   ]
  },
  {
   "cell_type": "markdown",
   "id": "1e2ed8b6-66ee-4069-be2d-cbe9da35ac76",
   "metadata": {},
   "source": [
    "## Usage"
   ]
  },
  {
   "cell_type": "code",
   "execution_count": 1,
   "id": "461220df-fac2-47fe-bf98-26acf5a899a8",
   "metadata": {
    "execution": {
     "iopub.execute_input": "2021-10-21T16:01:14.010421Z",
     "iopub.status.busy": "2021-10-21T16:01:14.010231Z",
     "iopub.status.idle": "2021-10-21T16:01:14.024619Z",
     "shell.execute_reply": "2021-10-21T16:01:14.024210Z",
     "shell.execute_reply.started": "2021-10-21T16:01:14.010371Z"
    }
   },
   "outputs": [],
   "source": [
    "from fuzzywuzzy import fuzz\n",
    "from fuzzywuzzy import process"
   ]
  },
  {
   "cell_type": "markdown",
   "id": "d16f341a-2131-40ed-8cb5-ac722de9623e",
   "metadata": {},
   "source": [
    "## `ratio`"
   ]
  },
  {
   "cell_type": "code",
   "execution_count": 2,
   "id": "45720185-9633-4a5c-a3f4-ccae26c996cf",
   "metadata": {
    "execution": {
     "iopub.execute_input": "2021-10-21T16:01:14.025346Z",
     "iopub.status.busy": "2021-10-21T16:01:14.025180Z",
     "iopub.status.idle": "2021-10-21T16:01:14.147285Z",
     "shell.execute_reply": "2021-10-21T16:01:14.146055Z",
     "shell.execute_reply.started": "2021-10-21T16:01:14.025328Z"
    }
   },
   "outputs": [
    {
     "data": {
      "text/plain": [
       "97"
      ]
     },
     "execution_count": 2,
     "metadata": {},
     "output_type": "execute_result"
    }
   ],
   "source": [
    "fuzz.ratio(\"this is a test\", \"this is a test!\")"
   ]
  },
  {
   "cell_type": "code",
   "execution_count": 3,
   "id": "f51f2905-934f-40b8-a06d-f39f1ec7aac0",
   "metadata": {
    "execution": {
     "iopub.execute_input": "2021-10-21T16:01:14.149058Z",
     "iopub.status.busy": "2021-10-21T16:01:14.148569Z",
     "iopub.status.idle": "2021-10-21T16:01:14.261164Z",
     "shell.execute_reply": "2021-10-21T16:01:14.260071Z",
     "shell.execute_reply.started": "2021-10-21T16:01:14.149025Z"
    }
   },
   "outputs": [
    {
     "data": {
      "text/plain": [
       "60"
      ]
     },
     "execution_count": 3,
     "metadata": {},
     "output_type": "execute_result"
    }
   ],
   "source": [
    "fuzz.ratio('Taiwan', 'Taiwan (R.O.C)')"
   ]
  },
  {
   "cell_type": "markdown",
   "id": "7d343fad-0b1d-4ad8-85ff-bbb2eee8f341",
   "metadata": {},
   "source": [
    "- First parameter is the target word\n",
    "- Second parameter is a matching string"
   ]
  },
  {
   "cell_type": "markdown",
   "id": "4e2a4a27-b794-46f4-aefb-3b563f98ee42",
   "metadata": {},
   "source": [
    "## `partial_ratio`"
   ]
  },
  {
   "cell_type": "code",
   "execution_count": 4,
   "id": "f6d7b62e-15e1-4cfb-968c-89a05654793f",
   "metadata": {
    "execution": {
     "iopub.execute_input": "2021-10-21T16:01:14.264898Z",
     "iopub.status.busy": "2021-10-21T16:01:14.264512Z",
     "iopub.status.idle": "2021-10-21T16:01:14.369653Z",
     "shell.execute_reply": "2021-10-21T16:01:14.368565Z",
     "shell.execute_reply.started": "2021-10-21T16:01:14.264859Z"
    }
   },
   "outputs": [
    {
     "data": {
      "text/plain": [
       "100"
      ]
     },
     "execution_count": 4,
     "metadata": {},
     "output_type": "execute_result"
    }
   ],
   "source": [
    "fuzz.partial_ratio(\"this is a test\", \"this is a test!\")"
   ]
  },
  {
   "cell_type": "markdown",
   "id": "7c8aac4a-2dff-4cc6-938c-5eecceb0e33b",
   "metadata": {},
   "source": [
    "## `token_sort_ratio`"
   ]
  },
  {
   "cell_type": "code",
   "execution_count": 5,
   "id": "3404a9b6-0a30-453a-b330-1d484bc4ab5e",
   "metadata": {
    "execution": {
     "iopub.execute_input": "2021-10-21T16:01:14.371484Z",
     "iopub.status.busy": "2021-10-21T16:01:14.371090Z",
     "iopub.status.idle": "2021-10-21T16:01:14.478228Z",
     "shell.execute_reply": "2021-10-21T16:01:14.477000Z",
     "shell.execute_reply.started": "2021-10-21T16:01:14.371443Z"
    }
   },
   "outputs": [
    {
     "data": {
      "text/plain": [
       "91"
      ]
     },
     "execution_count": 5,
     "metadata": {},
     "output_type": "execute_result"
    }
   ],
   "source": [
    "fuzz.ratio(\"fuzzy wuzzy was a bear\", \"wuzzy fuzzy was a bear\")"
   ]
  },
  {
   "cell_type": "code",
   "execution_count": 6,
   "id": "7674ee33-9d61-4a79-8e36-5b8a8c4dcddf",
   "metadata": {
    "execution": {
     "iopub.execute_input": "2021-10-21T16:01:14.480049Z",
     "iopub.status.busy": "2021-10-21T16:01:14.479664Z",
     "iopub.status.idle": "2021-10-21T16:01:14.586110Z",
     "shell.execute_reply": "2021-10-21T16:01:14.585160Z",
     "shell.execute_reply.started": "2021-10-21T16:01:14.480008Z"
    },
    "tags": []
   },
   "outputs": [
    {
     "data": {
      "text/plain": [
       "100"
      ]
     },
     "execution_count": 6,
     "metadata": {},
     "output_type": "execute_result"
    }
   ],
   "source": [
    "fuzz.token_sort_ratio(\"fuzzy wuzzy was a bear\", \"wuzzy fuzzy was a bear\")"
   ]
  },
  {
   "cell_type": "markdown",
   "id": "96d96271-1156-4e62-858a-636bc13bf110",
   "metadata": {},
   "source": [
    "## `token_set_ratio`"
   ]
  },
  {
   "cell_type": "code",
   "execution_count": 7,
   "id": "41bfb17d-d853-4a5f-9ef2-f9ee800dd1e8",
   "metadata": {
    "execution": {
     "iopub.execute_input": "2021-10-21T16:01:14.587917Z",
     "iopub.status.busy": "2021-10-21T16:01:14.587536Z",
     "iopub.status.idle": "2021-10-21T16:01:14.695142Z",
     "shell.execute_reply": "2021-10-21T16:01:14.693928Z",
     "shell.execute_reply.started": "2021-10-21T16:01:14.587877Z"
    }
   },
   "outputs": [
    {
     "data": {
      "text/plain": [
       "84"
      ]
     },
     "execution_count": 7,
     "metadata": {},
     "output_type": "execute_result"
    }
   ],
   "source": [
    "fuzz.token_sort_ratio(\"fuzzy was a bear\", \"fuzzy fuzzy was a bear\")"
   ]
  },
  {
   "cell_type": "code",
   "execution_count": 8,
   "id": "5206b75e-dcd0-47ae-988f-0faa5a710cfb",
   "metadata": {
    "execution": {
     "iopub.execute_input": "2021-10-21T16:01:14.696843Z",
     "iopub.status.busy": "2021-10-21T16:01:14.696531Z",
     "iopub.status.idle": "2021-10-21T16:01:14.803073Z",
     "shell.execute_reply": "2021-10-21T16:01:14.801966Z",
     "shell.execute_reply.started": "2021-10-21T16:01:14.696804Z"
    }
   },
   "outputs": [
    {
     "data": {
      "text/plain": [
       "100"
      ]
     },
     "execution_count": 8,
     "metadata": {},
     "output_type": "execute_result"
    }
   ],
   "source": [
    "fuzz.token_set_ratio(\"fuzzy was a bear\", \"fuzzy fuzzy was a bear\")"
   ]
  },
  {
   "cell_type": "markdown",
   "id": "542cc7cc-af01-4cec-9403-5d49dbf0013a",
   "metadata": {},
   "source": [
    "## `process`"
   ]
  },
  {
   "cell_type": "code",
   "execution_count": 9,
   "id": "265f865a-6853-43d1-b2ea-3c174c20a029",
   "metadata": {
    "execution": {
     "iopub.execute_input": "2021-10-21T16:01:14.804834Z",
     "iopub.status.busy": "2021-10-21T16:01:14.804417Z",
     "iopub.status.idle": "2021-10-21T16:01:14.911991Z",
     "shell.execute_reply": "2021-10-21T16:01:14.911019Z",
     "shell.execute_reply.started": "2021-10-21T16:01:14.804794Z"
    },
    "tags": []
   },
   "outputs": [
    {
     "data": {
      "text/plain": [
       "[('New York Jets', 100), ('New York Giants', 79), ('Atlanta Falcons', 29)]"
      ]
     },
     "execution_count": 9,
     "metadata": {},
     "output_type": "execute_result"
    }
   ],
   "source": [
    "choices = [\"Atlanta Falcons\", \"New York Jets\", \"New York Giants\", \"Dallas Cowboys\"]\n",
    "process.extract(\"new york jets\", choices, limit=3)"
   ]
  },
  {
   "cell_type": "markdown",
   "id": "918b43c3-d30e-43a9-b361-68590161008a",
   "metadata": {},
   "source": [
    "- First parameter is the target word\n",
    "- Second parameter is a list of values"
   ]
  },
  {
   "cell_type": "code",
   "execution_count": 10,
   "id": "6fd9ba85-ae18-4a96-9106-13a56109a1a0",
   "metadata": {
    "execution": {
     "iopub.execute_input": "2021-10-21T16:01:14.913719Z",
     "iopub.status.busy": "2021-10-21T16:01:14.913191Z",
     "iopub.status.idle": "2021-10-21T16:01:15.020505Z",
     "shell.execute_reply": "2021-10-21T16:01:15.019262Z",
     "shell.execute_reply.started": "2021-10-21T16:01:14.913684Z"
    },
    "tags": []
   },
   "outputs": [
    {
     "data": {
      "text/plain": [
       "('Dallas Cowboys', 90)"
      ]
     },
     "execution_count": 10,
     "metadata": {},
     "output_type": "execute_result"
    }
   ],
   "source": [
    "process.extractOne(\"cowboys\", choices)"
   ]
  },
  {
   "cell_type": "code",
   "execution_count": 11,
   "id": "4454f12f",
   "metadata": {
    "execution": {
     "iopub.execute_input": "2021-10-21T16:01:15.022375Z",
     "iopub.status.busy": "2021-10-21T16:01:15.021774Z",
     "iopub.status.idle": "2021-10-21T16:01:15.349639Z",
     "shell.execute_reply": "2021-10-21T16:01:15.348941Z",
     "shell.execute_reply.started": "2021-10-21T16:01:15.022337Z"
    },
    "tags": []
   },
   "outputs": [
    {
     "data": {
      "text/html": [
       "<div>\n",
       "<style scoped>\n",
       "    .dataframe tbody tr th:only-of-type {\n",
       "        vertical-align: middle;\n",
       "    }\n",
       "\n",
       "    .dataframe tbody tr th {\n",
       "        vertical-align: top;\n",
       "    }\n",
       "\n",
       "    .dataframe thead th {\n",
       "        text-align: right;\n",
       "    }\n",
       "</style>\n",
       "<table border=\"1\" class=\"dataframe\">\n",
       "  <thead>\n",
       "    <tr style=\"text-align: right;\">\n",
       "      <th></th>\n",
       "      <th>Name</th>\n",
       "      <th>Code</th>\n",
       "    </tr>\n",
       "  </thead>\n",
       "  <tbody>\n",
       "    <tr>\n",
       "      <th>0</th>\n",
       "      <td>Afghanistan</td>\n",
       "      <td>AF</td>\n",
       "    </tr>\n",
       "    <tr>\n",
       "      <th>1</th>\n",
       "      <td>Åland Islands</td>\n",
       "      <td>AX</td>\n",
       "    </tr>\n",
       "    <tr>\n",
       "      <th>2</th>\n",
       "      <td>Albania</td>\n",
       "      <td>AL</td>\n",
       "    </tr>\n",
       "    <tr>\n",
       "      <th>3</th>\n",
       "      <td>Algeria</td>\n",
       "      <td>DZ</td>\n",
       "    </tr>\n",
       "    <tr>\n",
       "      <th>4</th>\n",
       "      <td>American Samoa</td>\n",
       "      <td>AS</td>\n",
       "    </tr>\n",
       "    <tr>\n",
       "      <th>5</th>\n",
       "      <td>Andorra</td>\n",
       "      <td>AD</td>\n",
       "    </tr>\n",
       "    <tr>\n",
       "      <th>6</th>\n",
       "      <td>Angola</td>\n",
       "      <td>AO</td>\n",
       "    </tr>\n",
       "    <tr>\n",
       "      <th>7</th>\n",
       "      <td>Anguilla</td>\n",
       "      <td>AI</td>\n",
       "    </tr>\n",
       "    <tr>\n",
       "      <th>8</th>\n",
       "      <td>Antarctica</td>\n",
       "      <td>AQ</td>\n",
       "    </tr>\n",
       "    <tr>\n",
       "      <th>9</th>\n",
       "      <td>Antigua and Barbuda</td>\n",
       "      <td>AG</td>\n",
       "    </tr>\n",
       "  </tbody>\n",
       "</table>\n",
       "</div>"
      ],
      "text/plain": [
       "                  Name Code\n",
       "0          Afghanistan   AF\n",
       "1        Åland Islands   AX\n",
       "2              Albania   AL\n",
       "3              Algeria   DZ\n",
       "4       American Samoa   AS\n",
       "5              Andorra   AD\n",
       "6               Angola   AO\n",
       "7             Anguilla   AI\n",
       "8           Antarctica   AQ\n",
       "9  Antigua and Barbuda   AG"
      ]
     },
     "execution_count": 11,
     "metadata": {},
     "output_type": "execute_result"
    }
   ],
   "source": [
    "import pandas as pd\n",
    "df = pd.read_csv('data/countries.csv')\n",
    "df.head(10)"
   ]
  },
  {
   "cell_type": "code",
   "execution_count": 12,
   "id": "68a2cd5b-2c56-499e-aaa0-d372a5d40c4d",
   "metadata": {
    "execution": {
     "iopub.execute_input": "2021-10-21T16:01:15.350626Z",
     "iopub.status.busy": "2021-10-21T16:01:15.350408Z",
     "iopub.status.idle": "2021-10-21T16:01:15.355438Z",
     "shell.execute_reply": "2021-10-21T16:01:15.354790Z",
     "shell.execute_reply.started": "2021-10-21T16:01:15.350608Z"
    },
    "tags": []
   },
   "outputs": [
    {
     "data": {
      "text/plain": [
       "array(['Afghanistan', 'Åland Islands', 'Albania', 'Algeria',\n",
       "       'American Samoa'], dtype=object)"
      ]
     },
     "execution_count": 12,
     "metadata": {},
     "output_type": "execute_result"
    }
   ],
   "source": [
    "countries = df.iloc[:,0].values\n",
    "countries[:5]"
   ]
  },
  {
   "cell_type": "code",
   "execution_count": 13,
   "id": "96284908-c075-456f-9765-f50de2c72cfb",
   "metadata": {
    "execution": {
     "iopub.execute_input": "2021-10-21T16:01:15.359259Z",
     "iopub.status.busy": "2021-10-21T16:01:15.359090Z",
     "iopub.status.idle": "2021-10-21T16:01:15.502433Z",
     "shell.execute_reply": "2021-10-21T16:01:15.501483Z",
     "shell.execute_reply.started": "2021-10-21T16:01:15.359233Z"
    },
    "tags": []
   },
   "outputs": [
    {
     "data": {
      "text/plain": [
       "[('Hong Kong', 100), ('Congo', 57), ('Gabon', 54)]"
      ]
     },
     "execution_count": 13,
     "metadata": {},
     "output_type": "execute_result"
    }
   ],
   "source": [
    "process.extract('Hong Kong', countries, limit=3)"
   ]
  },
  {
   "cell_type": "markdown",
   "id": "cf9d443f-1fdc-446e-a48c-5b3d7a546fa1",
   "metadata": {
    "tags": []
   },
   "source": [
    "## `ratio` score algorithm"
   ]
  },
  {
   "cell_type": "markdown",
   "id": "3e92da16-cdd3-4a15-8a6e-9ae7edb04560",
   "metadata": {},
   "source": [
    "- A wrapper of SequenceMatcher which uses [Levenshtein distance](https://en.wikipedia.org/wiki/Levenshtein_distance)\n",
    "- Calculate the score based on number of matched character blocks\n",
    "- Return a measure of the sequences' similarity between 0 and 100\n",
    "- Formula: `2*(Matched Characters)/(len(String A) + len(String B))`"
   ]
  },
  {
   "cell_type": "code",
   "execution_count": 14,
   "id": "5df02f99-bec6-4c83-a50a-e4409c6256ba",
   "metadata": {
    "execution": {
     "iopub.execute_input": "2021-10-21T16:01:15.503544Z",
     "iopub.status.busy": "2021-10-21T16:01:15.503316Z",
     "iopub.status.idle": "2021-10-21T16:01:15.611469Z",
     "shell.execute_reply": "2021-10-21T16:01:15.610105Z",
     "shell.execute_reply.started": "2021-10-21T16:01:15.503518Z"
    },
    "tags": []
   },
   "outputs": [
    {
     "data": {
      "text/plain": [
       "[('Edwards', 92), ('Edwards2', 86), ('drawdE', 50)]"
      ]
     },
     "execution_count": 14,
     "metadata": {},
     "output_type": "execute_result"
    }
   ],
   "source": [
    "process.extract('Edward', ['Edwards', 'Edwards2', 'drawdE'], scorer=fuzz.ratio)"
   ]
  },
  {
   "cell_type": "code",
   "execution_count": 15,
   "id": "04978fe0-f1b8-4dd7-aeff-115fd85893c9",
   "metadata": {
    "execution": {
     "iopub.execute_input": "2021-10-21T16:01:15.613660Z",
     "iopub.status.busy": "2021-10-21T16:01:15.613110Z",
     "iopub.status.idle": "2021-10-21T16:01:15.727421Z",
     "shell.execute_reply": "2021-10-21T16:01:15.726080Z",
     "shell.execute_reply.started": "2021-10-21T16:01:15.613603Z"
    }
   },
   "outputs": [
    {
     "data": {
      "text/plain": [
       "62"
      ]
     },
     "execution_count": 15,
     "metadata": {},
     "output_type": "execute_result"
    }
   ],
   "source": [
    "fuzz.ratio('Deluxe Room, 1 King Bed', 'Deluxe King Room')"
   ]
  },
  {
   "cell_type": "markdown",
   "id": "d1e3e629-49f7-404e-afad-6ff6da7c63d6",
   "metadata": {},
   "source": [
    "Two strings similarity score 62%"
   ]
  },
  {
   "cell_type": "code",
   "execution_count": 16,
   "id": "86a7b687-8011-4395-95a8-78c7ab240cbc",
   "metadata": {
    "execution": {
     "iopub.execute_input": "2021-10-21T16:01:15.729213Z",
     "iopub.status.busy": "2021-10-21T16:01:15.728802Z",
     "iopub.status.idle": "2021-10-21T16:01:15.844134Z",
     "shell.execute_reply": "2021-10-21T16:01:15.842747Z",
     "shell.execute_reply.started": "2021-10-21T16:01:15.729163Z"
    }
   },
   "outputs": [
    {
     "data": {
      "text/plain": [
       "69"
      ]
     },
     "execution_count": 16,
     "metadata": {},
     "output_type": "execute_result"
    }
   ],
   "source": [
    "fuzz.ratio('Traditional Double Room, 2 Double Beds', 'Double Room with Two Double Beds')"
   ]
  },
  {
   "cell_type": "code",
   "execution_count": 17,
   "id": "0c381bba-fff6-495a-a201-d00d8819cc4c",
   "metadata": {
    "execution": {
     "iopub.execute_input": "2021-10-21T16:01:15.846215Z",
     "iopub.status.busy": "2021-10-21T16:01:15.845751Z",
     "iopub.status.idle": "2021-10-21T16:01:15.960839Z",
     "shell.execute_reply": "2021-10-21T16:01:15.959616Z",
     "shell.execute_reply.started": "2021-10-21T16:01:15.846160Z"
    }
   },
   "outputs": [
    {
     "data": {
      "text/plain": [
       "74"
      ]
     },
     "execution_count": 17,
     "metadata": {},
     "output_type": "execute_result"
    }
   ],
   "source": [
    "fuzz.ratio('Room, 2 Double Beds (19th to 25th Floors)', 'Two Double Beds - Location Room (19th to 25th Floors)')"
   ]
  },
  {
   "cell_type": "markdown",
   "id": "e5a99c0d-7457-4890-a022-32dae451af57",
   "metadata": {},
   "source": [
    "The naive approach is far too sensitive to minor differences in word order, missing or extra words, and other such issues."
   ]
  },
  {
   "cell_type": "markdown",
   "id": "1eb5091e-97ef-4e24-be03-95b9e1314c92",
   "metadata": {
    "tags": []
   },
   "source": [
    "## `partial_ratio` compares partial string similarity"
   ]
  },
  {
   "cell_type": "code",
   "execution_count": 18,
   "id": "ece651d1-b1f7-489e-bf76-3981599029fa",
   "metadata": {
    "execution": {
     "iopub.execute_input": "2021-10-21T16:01:15.963094Z",
     "iopub.status.busy": "2021-10-21T16:01:15.962479Z",
     "iopub.status.idle": "2021-10-21T16:01:16.077237Z",
     "shell.execute_reply": "2021-10-21T16:01:16.076200Z",
     "shell.execute_reply.started": "2021-10-21T16:01:15.963018Z"
    },
    "tags": []
   },
   "outputs": [
    {
     "data": {
      "text/plain": [
       "69"
      ]
     },
     "execution_count": 18,
     "metadata": {},
     "output_type": "execute_result"
    }
   ],
   "source": [
    "fuzz.partial_ratio('Deluxe Room, 1 King Bed', 'Deluxe King Room')"
   ]
  },
  {
   "cell_type": "code",
   "execution_count": 19,
   "id": "33ecf045-e988-459e-8c9a-7358713f2258",
   "metadata": {
    "execution": {
     "iopub.execute_input": "2021-10-21T16:01:16.078944Z",
     "iopub.status.busy": "2021-10-21T16:01:16.078653Z",
     "iopub.status.idle": "2021-10-21T16:01:16.193766Z",
     "shell.execute_reply": "2021-10-21T16:01:16.192670Z",
     "shell.execute_reply.started": "2021-10-21T16:01:16.078909Z"
    },
    "tags": []
   },
   "outputs": [
    {
     "data": {
      "text/plain": [
       "83"
      ]
     },
     "execution_count": 19,
     "metadata": {},
     "output_type": "execute_result"
    }
   ],
   "source": [
    "fuzz.partial_ratio('Traditional Double Room, 2 Double Beds', 'Double Room with Two Double Beds')"
   ]
  },
  {
   "cell_type": "code",
   "execution_count": 20,
   "id": "bec9f668-a5e1-447b-b532-574a2767ac2a",
   "metadata": {
    "execution": {
     "iopub.execute_input": "2021-10-21T16:01:16.195602Z",
     "iopub.status.busy": "2021-10-21T16:01:16.195277Z",
     "iopub.status.idle": "2021-10-21T16:01:16.310651Z",
     "shell.execute_reply": "2021-10-21T16:01:16.309438Z",
     "shell.execute_reply.started": "2021-10-21T16:01:16.195563Z"
    },
    "tags": []
   },
   "outputs": [
    {
     "data": {
      "text/plain": [
       "63"
      ]
     },
     "execution_count": 20,
     "metadata": {},
     "output_type": "execute_result"
    }
   ],
   "source": [
    "fuzz.partial_ratio('Room, 2 Double Beds (19th to 25th Floors)', 'Two Double Beds - Location Room (19th to 25th Floors)')"
   ]
  },
  {
   "cell_type": "markdown",
   "id": "fc742b94-05d1-40eb-9d1f-a07938a79108",
   "metadata": {
    "tags": []
   },
   "source": [
    "## `token_sort_ratio` ignores word order"
   ]
  },
  {
   "cell_type": "code",
   "execution_count": 21,
   "id": "75b01439-1709-47d8-bcef-89f5e71375a8",
   "metadata": {
    "execution": {
     "iopub.execute_input": "2021-10-21T16:01:16.312460Z",
     "iopub.status.busy": "2021-10-21T16:01:16.312135Z",
     "iopub.status.idle": "2021-10-21T16:01:16.427524Z",
     "shell.execute_reply": "2021-10-21T16:01:16.426115Z",
     "shell.execute_reply.started": "2021-10-21T16:01:16.312421Z"
    }
   },
   "outputs": [
    {
     "data": {
      "text/plain": [
       "84"
      ]
     },
     "execution_count": 21,
     "metadata": {},
     "output_type": "execute_result"
    }
   ],
   "source": [
    "fuzz.token_sort_ratio('Deluxe Room, 1 King Bed', 'Deluxe King Room')"
   ]
  },
  {
   "cell_type": "code",
   "execution_count": 22,
   "id": "70a12f13-bd79-4ae8-8d3e-f6ef653de16a",
   "metadata": {
    "execution": {
     "iopub.execute_input": "2021-10-21T16:01:16.429305Z",
     "iopub.status.busy": "2021-10-21T16:01:16.428925Z",
     "iopub.status.idle": "2021-10-21T16:01:16.543424Z",
     "shell.execute_reply": "2021-10-21T16:01:16.542368Z",
     "shell.execute_reply.started": "2021-10-21T16:01:16.429265Z"
    }
   },
   "outputs": [
    {
     "data": {
      "text/plain": [
       "78"
      ]
     },
     "execution_count": 22,
     "metadata": {},
     "output_type": "execute_result"
    }
   ],
   "source": [
    "fuzz.token_sort_ratio('Traditional Double Room, 2 Double Beds', 'Double Room with Two Double Beds')"
   ]
  },
  {
   "cell_type": "code",
   "execution_count": 23,
   "id": "50dacb6e-8984-4797-ad26-c29844f4b1de",
   "metadata": {
    "execution": {
     "iopub.execute_input": "2021-10-21T16:01:16.545015Z",
     "iopub.status.busy": "2021-10-21T16:01:16.544750Z",
     "iopub.status.idle": "2021-10-21T16:01:16.697115Z",
     "shell.execute_reply": "2021-10-21T16:01:16.696057Z",
     "shell.execute_reply.started": "2021-10-21T16:01:16.544982Z"
    }
   },
   "outputs": [
    {
     "data": {
      "text/plain": [
       "83"
      ]
     },
     "execution_count": 23,
     "metadata": {},
     "output_type": "execute_result"
    }
   ],
   "source": [
    "fuzz.token_sort_ratio('Room, 2 Double Beds (19th to 25th Floors)', 'Two Double Beds - Location Room (19th to 25th Floors)')"
   ]
  },
  {
   "cell_type": "markdown",
   "id": "cf7a815f-8c5e-49d0-a74b-318dac13fd02",
   "metadata": {
    "tags": []
   },
   "source": [
    "## `token_set_ratio` ignores duplicated words"
   ]
  },
  {
   "cell_type": "markdown",
   "id": "ec2eb395-bba2-43da-8368-0eb788dd42c7",
   "metadata": {},
   "source": [
    "It is similar with token sort ratio, but a little bit more flexible."
   ]
  },
  {
   "cell_type": "code",
   "execution_count": 24,
   "id": "5593d64e-d81a-4614-a6e7-b5f8fbdd427a",
   "metadata": {
    "execution": {
     "iopub.execute_input": "2021-10-21T16:01:16.699259Z",
     "iopub.status.busy": "2021-10-21T16:01:16.698835Z",
     "iopub.status.idle": "2021-10-21T16:01:16.794171Z",
     "shell.execute_reply": "2021-10-21T16:01:16.793348Z",
     "shell.execute_reply.started": "2021-10-21T16:01:16.699218Z"
    }
   },
   "outputs": [
    {
     "data": {
      "text/plain": [
       "100"
      ]
     },
     "execution_count": 24,
     "metadata": {},
     "output_type": "execute_result"
    }
   ],
   "source": [
    "fuzz.token_set_ratio('Deluxe Room, 1 King Bed', 'Deluxe King Room')"
   ]
  },
  {
   "cell_type": "code",
   "execution_count": 25,
   "id": "53afe04f-a50e-4ca2-9f95-55a339be3370",
   "metadata": {
    "execution": {
     "iopub.execute_input": "2021-10-21T16:01:16.795612Z",
     "iopub.status.busy": "2021-10-21T16:01:16.795376Z",
     "iopub.status.idle": "2021-10-21T16:01:16.894683Z",
     "shell.execute_reply": "2021-10-21T16:01:16.893319Z",
     "shell.execute_reply.started": "2021-10-21T16:01:16.795585Z"
    }
   },
   "outputs": [
    {
     "data": {
      "text/plain": [
       "78"
      ]
     },
     "execution_count": 25,
     "metadata": {},
     "output_type": "execute_result"
    }
   ],
   "source": [
    "fuzz.token_set_ratio('Traditional Double Room, 2 Double Beds', 'Double Room with Two Double Beds')"
   ]
  },
  {
   "cell_type": "code",
   "execution_count": 26,
   "id": "c1fecfbd-9010-4ce8-a729-b767e01ce020",
   "metadata": {
    "execution": {
     "iopub.execute_input": "2021-10-21T16:01:16.896444Z",
     "iopub.status.busy": "2021-10-21T16:01:16.896124Z",
     "iopub.status.idle": "2021-10-21T16:01:16.994617Z",
     "shell.execute_reply": "2021-10-21T16:01:16.993625Z",
     "shell.execute_reply.started": "2021-10-21T16:01:16.896405Z"
    }
   },
   "outputs": [
    {
     "data": {
      "text/plain": [
       "97"
      ]
     },
     "execution_count": 26,
     "metadata": {},
     "output_type": "execute_result"
    }
   ],
   "source": [
    "fuzz.token_set_ratio('Room, 2 Double Beds (19th to 25th Floors)', 'Two Double Beds - Location Room (19th to 25th Floors)')"
   ]
  },
  {
   "cell_type": "markdown",
   "id": "edb01016-0019-4c1f-9fb6-6f11b97100a2",
   "metadata": {},
   "source": [
    "## `WRatio` is the default scorer"
   ]
  },
  {
   "cell_type": "markdown",
   "id": "0928e30c-770b-41d8-bc99-e4c79f00d574",
   "metadata": {},
   "source": [
    "- Return a measure of the sequences' similarity between 0 and 100\n",
    "- Uses different algorithms\n",
    "- UWRatio (Same as WRatio) for unicode"
   ]
  },
  {
   "cell_type": "code",
   "execution_count": 27,
   "id": "b66bd3a9-9a23-442c-94e9-cc71a35ecfed",
   "metadata": {
    "execution": {
     "iopub.execute_input": "2021-10-21T16:01:16.996610Z",
     "iopub.status.busy": "2021-10-21T16:01:16.996211Z",
     "iopub.status.idle": "2021-10-21T16:01:17.140854Z",
     "shell.execute_reply": "2021-10-21T16:01:17.139904Z",
     "shell.execute_reply.started": "2021-10-21T16:01:16.996570Z"
    }
   },
   "outputs": [
    {
     "name": "stdout",
     "output_type": "stream",
     "text": [
      "[('Hong Kong', 100), ('Congo', 57)]\n",
      "[('Japan', 60), ('Yemen', 60)]\n",
      "[('United States', 96), ('Tanzania, United Republic of', 86)]\n"
     ]
    }
   ],
   "source": [
    "# Default scorer is Weighed Ratio\n",
    "for location in ['Hong Kong', 'jepen', 'United tates']:\n",
    "    result = process.extract(location, countries, limit=2)\n",
    "    print(result)"
   ]
  },
  {
   "cell_type": "markdown",
   "id": "aec10205-1ec8-4d04-b239-c964ded57466",
   "metadata": {},
   "source": [
    "## `Qratio` does a quick ratio comparison for strings"
   ]
  },
  {
   "cell_type": "markdown",
   "id": "516bce29-9abc-4788-9bbd-8e013317c892",
   "metadata": {},
   "source": [
    "- Return a measure of the sequences' similarity between 0 and 100\n",
    "- UQRatio (Same as QRatio) for unicode"
   ]
  },
  {
   "cell_type": "code",
   "execution_count": 28,
   "id": "c20fa61e-5ecc-4115-8cb3-98bb81598de4",
   "metadata": {
    "execution": {
     "iopub.execute_input": "2021-10-21T16:01:17.141794Z",
     "iopub.status.busy": "2021-10-21T16:01:17.141637Z",
     "iopub.status.idle": "2021-10-21T16:01:17.224050Z",
     "shell.execute_reply": "2021-10-21T16:01:17.223183Z",
     "shell.execute_reply.started": "2021-10-21T16:01:17.141767Z"
    }
   },
   "outputs": [
    {
     "data": {
      "text/plain": [
       "[('Hong Kong', 100), ('Congo', 57), ('Mongolia', 47)]"
      ]
     },
     "execution_count": 28,
     "metadata": {},
     "output_type": "execute_result"
    }
   ],
   "source": [
    "# Partial Ratio\n",
    "process.extract('Hong Kong', countries, scorer=fuzz.QRatio, limit=3)"
   ]
  },
  {
   "cell_type": "markdown",
   "id": "ec9dcf19-c507-40af-8f3a-5313a61964da",
   "metadata": {},
   "source": [
    "## More examples"
   ]
  },
  {
   "cell_type": "code",
   "execution_count": 29,
   "id": "faea58d7-96a3-45f0-8f2f-4501126fe617",
   "metadata": {
    "execution": {
     "iopub.execute_input": "2021-10-21T16:01:17.225637Z",
     "iopub.status.busy": "2021-10-21T16:01:17.225297Z",
     "iopub.status.idle": "2021-10-21T16:01:17.342844Z",
     "shell.execute_reply": "2021-10-21T16:01:17.341999Z",
     "shell.execute_reply.started": "2021-10-21T16:01:17.225601Z"
    },
    "tags": []
   },
   "outputs": [
    {
     "data": {
      "text/plain": [
       "[('Taiwan, Province of China', 90),\n",
       " ('Thailand', 71),\n",
       " ('Tajikistan', 62),\n",
       " ('Australia', 60),\n",
       " ('Azerbaijan', 60)]"
      ]
     },
     "execution_count": 29,
     "metadata": {},
     "output_type": "execute_result"
    }
   ],
   "source": [
    "process.extract(\"Taiwan\", countries)"
   ]
  },
  {
   "cell_type": "code",
   "execution_count": 30,
   "id": "6abccdb7-d6a3-4588-8fa8-e9e9fb86aae4",
   "metadata": {
    "execution": {
     "iopub.execute_input": "2021-10-21T16:01:17.343734Z",
     "iopub.status.busy": "2021-10-21T16:01:17.343594Z",
     "iopub.status.idle": "2021-10-21T16:01:17.445220Z",
     "shell.execute_reply": "2021-10-21T16:01:17.444173Z",
     "shell.execute_reply.started": "2021-10-21T16:01:17.343717Z"
    },
    "tags": []
   },
   "outputs": [
    {
     "data": {
      "text/plain": [
       "[('臺北市', 90), ('台北市', 90)]"
      ]
     },
     "execution_count": 30,
     "metadata": {},
     "output_type": "execute_result"
    }
   ],
   "source": [
    "choices = [\"臺北市\", \"台北市\", \"新北市\", \"桃園市\"]\n",
    "process.extract(\"北市\", choices, limit=2)"
   ]
  },
  {
   "cell_type": "code",
   "execution_count": 31,
   "id": "40902137-7dc0-466a-ba94-b330c664db9c",
   "metadata": {
    "execution": {
     "iopub.execute_input": "2021-10-21T16:01:17.446750Z",
     "iopub.status.busy": "2021-10-21T16:01:17.446398Z",
     "iopub.status.idle": "2021-10-21T16:01:17.550792Z",
     "shell.execute_reply": "2021-10-21T16:01:17.549513Z",
     "shell.execute_reply.started": "2021-10-21T16:01:17.446711Z"
    }
   },
   "outputs": [],
   "source": [
    "items = ['各機關人事費',\n",
    " '公務人員退休撫卹金、慰問金及各項補助',\n",
    " '各類員工待遇準備',\n",
    " '直接提供服務之機關編列部分',\n",
    " '一般機關編列部分',\n",
    " '公務人員進修及健檢補助等',\n",
    " '直接提供服務之機關編列部分',\n",
    " '一般機關編列部分',\n",
    " '補助特種基金',\n",
    " '退休公務人員及遺族三節慰問金等',\n",
    " '國家賠償金',\n",
    " '第一預備金',\n",
    " '第二預備金',\n",
    " '災害準備金']"
   ]
  },
  {
   "cell_type": "code",
   "execution_count": 32,
   "id": "2bd199e5-4d0a-4426-aec5-e87d81d8c231",
   "metadata": {
    "execution": {
     "iopub.execute_input": "2021-10-21T16:01:17.552565Z",
     "iopub.status.busy": "2021-10-21T16:01:17.552245Z",
     "iopub.status.idle": "2021-10-21T16:01:18.596407Z",
     "shell.execute_reply": "2021-10-21T16:01:18.595407Z",
     "shell.execute_reply.started": "2021-10-21T16:01:17.552526Z"
    },
    "tags": []
   },
   "outputs": [
    {
     "data": {
      "text/plain": [
       "[('退休公務人員及遺族三節慰問金等', 90), ('公務人員退休撫卹金、慰問金及各項補助', 60)]"
      ]
     },
     "execution_count": 32,
     "metadata": {},
     "output_type": "execute_result"
    }
   ],
   "source": [
    "process.extract(\"退休\", items, limit=2)"
   ]
  },
  {
   "cell_type": "code",
   "execution_count": 33,
   "id": "9f35abaa-1400-4f62-a4e6-fe80705e5c46",
   "metadata": {
    "execution": {
     "iopub.execute_input": "2021-10-21T16:01:18.598159Z",
     "iopub.status.busy": "2021-10-21T16:01:18.597756Z",
     "iopub.status.idle": "2021-10-21T16:01:18.703138Z",
     "shell.execute_reply": "2021-10-21T16:01:18.702082Z",
     "shell.execute_reply.started": "2021-10-21T16:01:18.598118Z"
    },
    "tags": []
   },
   "outputs": [
    {
     "data": {
      "text/plain": [
       "[('公務人員退休撫卹金、慰問金及各項補助', 75), ('公務人員進修及健檢補助等', 45)]"
      ]
     },
     "execution_count": 33,
     "metadata": {},
     "output_type": "execute_result"
    }
   ],
   "source": [
    "process.extract(\"公務員退休金\", items, limit=2)"
   ]
  },
  {
   "cell_type": "markdown",
   "id": "ef700ff3-d567-4356-adbd-d6f3e183f398",
   "metadata": {
    "execution": {
     "iopub.execute_input": "2021-10-21T15:59:57.653849Z",
     "iopub.status.busy": "2021-10-21T15:59:57.653448Z",
     "iopub.status.idle": "2021-10-21T15:59:57.659374Z",
     "shell.execute_reply": "2021-10-21T15:59:57.658235Z",
     "shell.execute_reply.started": "2021-10-21T15:59:57.653806Z"
    }
   },
   "source": [
    "## More information"
   ]
  },
  {
   "cell_type": "markdown",
   "id": "e860ea77-76f8-41e2-8e24-3441e30c16b5",
   "metadata": {},
   "source": [
    "https://github.com/seatgeek/fuzzywuzzyhttps://github.com/seatgeek/fuzzywuzzy\n",
    "\n",
    "https://en.wikipedia.org/wiki/Levenshtein_distancehttps://en.wikipedia.org/wiki/Levenshtein_distance\n",
    "\n",
    "https://towardsdatascience.com/how-fuzzy-matching-improve-your-nlp-model-bc617385ad6b\n",
    "\n",
    "https://towardsdatascience.com/natural-language-processing-for-fuzzy-string-matching-with-python-6632b7824c49\n",
    "\n",
    "https://www.geeksforgeeks.org/fuzzywuzzy-python-library/"
   ]
  }
 ],
 "metadata": {
  "kernelspec": {
   "display_name": "Python 3 (ipykernel)",
   "language": "python",
   "name": "python3"
  },
  "language_info": {
   "codemirror_mode": {
    "name": "ipython",
    "version": 3
   },
   "file_extension": ".py",
   "mimetype": "text/x-python",
   "name": "python",
   "nbconvert_exporter": "python",
   "pygments_lexer": "ipython3",
   "version": "3.8.10"
  }
 },
 "nbformat": 4,
 "nbformat_minor": 5
}
